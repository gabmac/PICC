{
 "cells": [
  {
   "cell_type": "markdown",
   "metadata": {},
   "source": [
    "[Table of Contents](./table_of_contents.ipynb)"
   ]
  },
  {
   "cell_type": "markdown",
   "metadata": {},
   "source": [
    "# Gaussian Probabilities"
   ]
  },
  {
   "cell_type": "code",
   "execution_count": 1,
   "metadata": {},
   "outputs": [
    {
     "data": {
      "text/html": [
       "<style>\n",
       "@import url('http://fonts.googleapis.com/css?family=Source+Code+Pro');\n",
       "@import url('http://fonts.googleapis.com/css?family=Lora');\n",
       "\n",
       ".CodeMirror pre {\n",
       "    font-family: 'Source Code Pro', Consolas, monocco, monospace;\n",
       "}\n",
       "    div.cell{\n",
       "        //width: 950px;\n",
       "        margin-left: 0% !important;\n",
       "        margin-right: auto;\n",
       "    }\n",
       "    div.text_cell_render{\n",
       "        font-family: 'Lora';\n",
       "        line-height: 125%;\n",
       "        font-size: 100%;\n",
       "        text-align: justify;\n",
       "        text-justify:inter-word;\n",
       "    }\n",
       "    div.text_cell code {\n",
       "        background: transparent;\n",
       "        color: #000000;\n",
       "        font-weight: 400;\n",
       "        font-size: 11pt;\n",
       "        font-family:  'Source Code Pro', Consolas, monocco, monospace;\n",
       "   }\n",
       "    h1 {\n",
       "        font-family: 'Open sans',verdana,arial,sans-serif;\n",
       "\t}\n",
       "\n",
       "    div.input_area {\n",
       "        background: #F6F6F9;\n",
       "        border: 1px solid #586e75;\n",
       "    }\n",
       "\n",
       "    .text_cell_render h1 {\n",
       "        font-weight: 200;\n",
       "        font-size: 30pt;\n",
       "        line-height: 100%;\n",
       "        color:#c76c0c;\n",
       "        margin-bottom: 0.5em;\n",
       "        margin-top: 1em;\n",
       "        display: block;\n",
       "        white-space: wrap;\n",
       "        text-align: left;\n",
       "    }\n",
       "    h2 {\n",
       "        font-family: 'Open sans',verdana,arial,sans-serif;\n",
       "        text-align: left;\n",
       "    }\n",
       "    .text_cell_render h2 {\n",
       "        font-weight: 200;\n",
       "        font-size: 16pt;\n",
       "        font-style: italic;\n",
       "        line-height: 100%;\n",
       "        color:#c76c0c;\n",
       "        margin-bottom: 0.5em;\n",
       "        margin-top: 1.5em;\n",
       "        display: block;\n",
       "        white-space: wrap;\n",
       "        text-align: left;\n",
       "    }\n",
       "    h3 {\n",
       "        font-family: 'Open sans',verdana,arial,sans-serif;\n",
       "    }\n",
       "    .text_cell_render h3 {\n",
       "        font-weight: 200;\n",
       "        font-size: 14pt;\n",
       "        line-height: 100%;\n",
       "        color:#d77c0c;\n",
       "        margin-bottom: 0.5em;\n",
       "        margin-top: 2em;\n",
       "        display: block;\n",
       "        white-space: wrap;\n",
       "        text-align: left;\n",
       "    }\n",
       "    h4 {\n",
       "        font-family: 'Open sans',verdana,arial,sans-serif;\n",
       "    }\n",
       "    .text_cell_render h4 {\n",
       "        font-weight: 100;\n",
       "        font-size: 14pt;\n",
       "        color:#d77c0c;\n",
       "        margin-bottom: 0.5em;\n",
       "        margin-top: 0.5em;\n",
       "        display: block;\n",
       "        white-space: nowrap;\n",
       "    }\n",
       "    h5 {\n",
       "        font-family: 'Open sans',verdana,arial,sans-serif;\n",
       "    }\n",
       "\n",
       "    .text_cell_render h5 {\n",
       "        font-weight: 200;\n",
       "        font-style: normal;\n",
       "        color: #1d3b84;\n",
       "        font-size: 16pt;\n",
       "        margin-bottom: 0em;\n",
       "        margin-top: 0.5em;\n",
       "        display: block;\n",
       "        white-space: nowrap;\n",
       "    }\n",
       "    div.output_subarea.output_text.output_pyout {\n",
       "        overflow-x: auto;\n",
       "        overflow-y: visible;\n",
       "        max-height: 5000000px;\n",
       "    }\n",
       "    div.output_subarea.output_stream.output_stdout.output_text {\n",
       "        overflow-x: auto;\n",
       "        overflow-y: visible;\n",
       "        max-height: 5000000px;\n",
       "    }\n",
       "    div.output_wrapper{\n",
       "        margin-top:0.2em;\n",
       "        margin-bottom:0.2em;\n",
       "}\n",
       "\n",
       "    code{\n",
       "        font-size: 6pt;\n",
       "\n",
       "    }\n",
       "    .rendered_html code{\n",
       "    background-color: transparent;\n",
       "    }\n",
       "    ul{\n",
       "        margin: 2em;\n",
       "    }\n",
       "    ul li{\n",
       "        padding-left: 0.5em;\n",
       "        margin-bottom: 0.5em;\n",
       "        margin-top: 0.5em;\n",
       "    }\n",
       "    ul li li{\n",
       "        padding-left: 0.2em;\n",
       "        margin-bottom: 0.2em;\n",
       "        margin-top: 0.2em;\n",
       "    }\n",
       "    ol{\n",
       "        margin: 2em;\n",
       "    }\n",
       "    ol li{\n",
       "        padding-left: 0.5em;\n",
       "        margin-bottom: 0.5em;\n",
       "        margin-top: 0.5em;\n",
       "    }\n",
       "    ul li{\n",
       "        padding-left: 0.5em;\n",
       "        margin-bottom: 0.5em;\n",
       "        margin-top: 0.2em;\n",
       "    }\n",
       "    a:link{\n",
       "       color:#447adb;\n",
       "    }\n",
       "    a:visited{\n",
       "       color: #1d3b84;\n",
       "    }\n",
       "    a:hover{\n",
       "       color: #1d3b84;\n",
       "    }\n",
       "    a:focus{\n",
       "       color:#447adb;\n",
       "    }\n",
       "    a:active{\n",
       "       font-weight: bold;\n",
       "       color:#447adb;\n",
       "    }\n",
       "    .rendered_html :link {\n",
       "       text-decoration: underline;\n",
       "    }\n",
       "    .rendered_html :hover {\n",
       "       text-decoration: none;\n",
       "    }\n",
       "    .rendered_html :visited {\n",
       "      text-decoration: none;\n",
       "    }\n",
       "    .rendered_html :focus {\n",
       "      text-decoration: none;\n",
       "    }\n",
       "    .rendered_html :active {\n",
       "      text-decoration: none;\n",
       "    }\n",
       "    .warning{\n",
       "        color: rgb( 240, 20, 20 )\n",
       "    }\n",
       "    hr {\n",
       "      color: #f3f3f3;\n",
       "      background-color: #f3f3f3;\n",
       "      height: 1px;\n",
       "    }\n",
       "    blockquote{\n",
       "      display:block;\n",
       "      background: #fcfcfc;\n",
       "      border-left: 5px solid #c76c0c;\n",
       "      font-family: 'Open sans',verdana,arial,sans-serif;\n",
       "      width:680px;\n",
       "      padding: 10px 10px 10px 10px;\n",
       "      text-align:justify;\n",
       "      text-justify:inter-word;\n",
       "      }\n",
       "      blockquote p {\n",
       "        margin-bottom: 0;\n",
       "        line-height: 125%;\n",
       "        font-size: 100%;\n",
       "      }\n",
       "</style>\n",
       "<script>\n",
       "    MathJax.Hub.Config({\n",
       "                        TeX: {\n",
       "                           extensions: [\"AMSmath.js\"],\n",
       "                           equationNumbers: { autoNumber: \"AMS\", useLabelIds: true}\n",
       "                           },\n",
       "                tex2jax: {\n",
       "                    inlineMath: [ ['$','$'], [\"\\\\(\",\"\\\\)\"] ],\n",
       "                    displayMath: [ ['$$','$$'], [\"\\\\[\",\"\\\\]\"] ]\n",
       "                },\n",
       "                displayAlign: 'center', // Change this to 'center' to center equations.\n",
       "                \"HTML-CSS\": {\n",
       "                    scale: 95,\n",
       "                        availableFonts: [],\n",
       "                        preferredFont:null,\n",
       "                        webFont: \"TeX\",\n",
       "                    styles: {'.MathJax_Display': {\"margin\": 4}}\n",
       "                },\n",
       "                 \"fast-preview\": {\n",
       "                    \"disabled\": false\n",
       "                }\n",
       "        });\n",
       "</script>\n"
      ],
      "text/plain": [
       "<IPython.core.display.HTML object>"
      ]
     },
     "execution_count": 1,
     "metadata": {},
     "output_type": "execute_result"
    }
   ],
   "source": [
    "#format the book\n",
    "%matplotlib inline\n",
    "from __future__ import division, print_function\n",
    "from book_format import load_style\n",
    "load_style()"
   ]
  },
  {
   "cell_type": "markdown",
   "metadata": {},
   "source": [
    "## Introduction\n",
    "\n",
    "The last chapter ended by discussing some of the drawbacks of the Discrete Bayesian filter. For many tracking and filtering problems our desire is to have a filter that is *unimodal* and *continuous*. That is, we want to model our system using floating point math (continuous) and to have only one belief represented (unimodal). For example, we want to say an aircraft is at (12.34, -95.54, 2389.5) where that is latitude, longitude, and altitude. We do not want our filter to tell us \"it might be at (1.65, -78.01, 2100.45) or it might be at (34.36, -98.23, 2543.79).\" That doesn't match our physical intuition of how the world works, and as we discussed, it can be prohibitively expensive to compute the multimodal case. And, of course, multiple position estimates makes navigating impossible.\n",
    "\n",
    "We desire a unimodal, continuous way to represent probabilities that models how the real world works, and that is computationally efficient to calculate. Gaussian distributions provide all of these features."
   ]
  },
  {
   "cell_type": "markdown",
   "metadata": {},
   "source": [
    "## Mean, Variance, and Standard Deviations\n",
    "\n",
    "Most of you will have had exposure to at least basic statistics, but allow me to cover this material anyway. I ask that you read the material even if you are sure you know it well. I ask for two reasons. First, I want to be sure that we are using terms in the same way. Second, I strive to form an intuitive understanding of statistics that will serve you well in later chapters. It's easy to go through a stats course and only remember the formulas and calculations, and perhaps be fuzzy on the implications of what you have learned.\n",
    "\n",
    "### Random Variables\n",
    "\n",
    "Each time you roll a die the *outcome* will be between 1 and 6. If we rolled a fair die a million times we'd expect to get a one 1/6 of the time. Thus we say the *probability*, or *odds* of the outcome 1 is 1/6. Likewise, if I asked you the chance of 1 being the result of the next roll you'd reply 1/6.  \n",
    "\n",
    "This combination of values and associated probabilities is called a [*random variable*](https://en.wikipedia.org/wiki/Random_variable). Here *random* does not mean the process is nondeterministic, only that we lack information. The result of a die toss is deterministic, but we lack enough information to compute the result. We don't know what will happen, except probabilistically.\n",
    "\n",
    "While we are defining terms, the range of values is called the [*sample space*](https://en.wikipedia.org/wiki/Sample_space). For a die the sample space is {1, 2, 3, 4, 5, 6}. For a coin the sample space is {H, T}. *Space* is a mathematical term which means a set with structure. The sample space for the die is a subset of the natural numbers in the range of 1 to 6.\n",
    "\n",
    "Another example of a random variable is the heights of students in a university. Here the sample space is a range of values in the real numbers between two limits defined by biology.\n",
    "\n",
    "Random variables such as coin tosses and die rolls are *discrete random variables*. This means their sample space is represented by either a finite number of values or a countably infinite number of values such as the natural numbers. Heights of humans are called *continuous random variables* since they can take on any real value between two limits.\n",
    "\n",
    "Do not confuse the *measurement* of the random variable with the actual value. If we can only measure the height of a person to 0.1 meters we would only record values from 0.1, 0.2, 0.3...2.7, yielding 27 discrete choices. Nonetheless a person's height can vary between any arbitrary real value between those ranges, and so height is a continuous random variable. \n",
    "\n",
    "In statistics capital letters are used for random variables, usually from the latter half of the alphabet. So, we might say that $X$ is the random variable representing the die toss, or $Y$ are the heights of the students in the freshmen poetry class. Later chapters use linear algebra to solve these problems, and so there we will follow the convention of using  lower case for vectors, and upper case for matrices. Unfortunately these conventions clash, and you will have to determine which an author is using from context. "
   ]
  },
  {
   "cell_type": "markdown",
   "metadata": {},
   "source": [
    "## Probability Distribution\n",
    "\n",
    "\n",
    "The [*probability distribution*](https://en.wikipedia.org/wiki/Probability_distribution) gives the probability for the random variable to take any value in a sample space. For example, for a fair six sided die we might say:\n",
    "\n",
    "|Value|Probability|\n",
    "|-----|-----------|\n",
    "|1|1/6|\n",
    "|2|1/6|\n",
    "|3|1/6|\n",
    "|4|1/6|\n",
    "|5|1/6|\n",
    "|6|1/6|\n",
    "\n",
    "Some sources call this the *probability function*. Using ordinary function notation, we would write:\n",
    "\n",
    "$$P(X{=}4) = f(4) = \\frac{1}{6}$$\n",
    "\n",
    "This states that the probability of the die landing on 4 is $\\frac{1}{6}$. $P(X{=}x_k)$ is notation for \"the probability of $X$ being $x_k$. Some texts use $Pr$ or $Prob$ instead of $P$.\n",
    "\n",
    "\n",
    "Another example is a fair coin. It has the sample space {H, T}. The coin is fair, so the probability for heads (H) is 50%, and the probability for tails (T) is 50%. We write this as\n",
    "\n",
    "$$\\begin{gathered}P(X{=}H) = 0.5\\\\P(X{=}T)=0.5\\end{gathered}$$\n",
    "\n",
    "Sample spaces are not unique. One sample space for a die is {1, 2, 3, 4, 5, 6}. Another valid sample space would be {even, odd}. Another might be {dots in all corners, not dots in all corners}. A sample space is valid so long as it covers all possibilities, and any single event is described by only one element.  {even, 1, 3, 4, 5} is not a valid sample space for a die since a value of 4 is matched both by 'even' and '4'.\n",
    "\n",
    "The probabilities for all values of a *discrete random value* is known as the *discrete probability distribution* and the probabilities for all values of a *continuous random value* is known as the *continuous probability distribution*.\n",
    "\n",
    "To be a probability distribution the probability of each value $x_i$ must be $x_i \\ge 0$, since no probability can be less than zero. Secondly, the sum of the probabilities for all values must equal one. This should be intuitively clear for a coin toss: if the odds of getting heads is 70%, then the odds of getting tails must be 30%. We formulize this requirement as\n",
    "\n",
    "$$\\sum\\limits_u P(X{=}u)= 1$$\n",
    "\n",
    "for discrete distributions, and as \n",
    "\n",
    "$$\\int\\limits_u P(X{=}u) \\,du= 1$$\n",
    "\n",
    "for continuous distributions."
   ]
  },
  {
   "cell_type": "markdown",
   "metadata": {},
   "source": [
    "### The Mean, Median, and Mode of a Random Variable\n",
    "\n",
    "Given a set of data we often want to know a representative or average value for that set. There are many measures for this, and the concept is called a [*measure of central tendency*](https://en.wikipedia.org/wiki/Central_tendency). For example we might want to know the *average* height of the students in a class. We all know how to find the average, but let me belabor the point so I can introduce more formal notation and terminology. Another word for average is the *mean*. We compute the mean by summing the values and dividing by the number of values. If the heights of the students in meters is \n",
    "\n",
    "$$X = \\{1.8, 2.0, 1.7, 1.9, 1.6\\}$$\n",
    "\n",
    "we compute the mean as\n",
    "\n",
    "$$\\mu = \\frac{1.8 + 2.0 + 1.7 + 1.9 + 1.6}{5} = 1.8$$\n",
    "\n",
    "It is traditional to use the symbol $\\mu$ (mu) to denote the mean.\n",
    "\n",
    "We can formalize this computation with the equation\n",
    "\n",
    "$$ \\mu = \\frac{1}{n}\\sum^n_{i=1} x_i$$\n",
    "\n",
    "NumPy provides `numpy.mean()` for computing the mean."
   ]
  },
  {
   "cell_type": "code",
   "execution_count": 2,
   "metadata": {
    "scrolled": true
   },
   "outputs": [
    {
     "name": "stdout",
     "output_type": "stream",
     "text": [
      "1.8\n"
     ]
    }
   ],
   "source": [
    "import numpy as np\n",
    "x = [1.8, 2.0, 1.7, 1.9, 1.6]\n",
    "print(np.mean(x))"
   ]
  },
  {
   "cell_type": "markdown",
   "metadata": {},
   "source": [
    "The *mode* of a set of numbers is the number that occurs most often. If only one number occurs most often we say it is a *unimodal* set, and if two or more numbers occur the most with equal frequency than the set is *multimodal*. For example the set {1, 2, 2, 2, 3, 4, 4, 4} has modes 2 and 4, which is multimodal, and the set {5, 7, 7, 13} has the mode 7, and so it is unimodal. We will not be computing the mode in this manner in this book, but we do use the concepts of unimodal and multimodal in a more general sense. For example, in the **Discrete Bayes** chapter we talked about our belief in the dog's position as a *multimodal distribution* because we assigned different probabilities to different positions.\n",
    "\n",
    "Finally, the *median* of a set of numbers is the middle point of the set so that half the values are below the median and half are above the median. Here, above and below is in relation to the set being sorted.  If the set contains an even number of values then the two middle numbers are averaged together.\n",
    "\n",
    "Numpy provides `numpy.median()` to compute the median. As you can see the median of {1.8, 2.0, 1.7, 1.9, 1.6} is 1.8, because 1.8 is the third element of this set after being sorted."
   ]
  },
  {
   "cell_type": "code",
   "execution_count": 3,
   "metadata": {},
   "outputs": [
    {
     "name": "stdout",
     "output_type": "stream",
     "text": [
      "1.8\n"
     ]
    }
   ],
   "source": [
    "print(np.median(x))"
   ]
  },
  {
   "cell_type": "markdown",
   "metadata": {},
   "source": [
    "## Expected Value of a Random Variable\n",
    "\n",
    "The [*expected value*](https://en.wikipedia.org/wiki/Expected_value) of a random variable is the average value it would have if we took an infinite number of samples of it and then averaged those samples together. Let's say we have $x=[1,3,5]$ and each value is equally probable. What value would we *expect* $x$ to have, on average?\n",
    "\n",
    "It would be the average of 1, 3, and 5, of course, which is 3. That should make sense; we would expect equal numbers of 1, 3, and 5 to occur, so $(1+3+5)/3=3$ is clearly the average of that infinite series of samples. In other words, here the expected value is the *mean* of the sample space.\n",
    "\n",
    "Now suppose that each value has a different probability of happening. Say 1 has an 80% chance of occurring, 3 has an 15% chance, and 5 has only a 5% chance. In this case we compute the expected value by multiplying each value of $x$ by the percent chance of it occurring, and summing the result. For this case we could compute\n",
    "\n",
    "$$\\mathbb E[X] = (1)(0.8) + (3)(0.15) + (5)(0.05) = 1.5$$\n",
    "\n",
    "Here I have introduced the notation $\\mathbb E[X]$ for the expected value of $x$. Some texts use $E(x)$. The value 1.5 for $x$ makes intuitive sense because $x$ is far more likely to be 1 than 3 or 5, and 3 is more likely than 5 as well.\n",
    "\n",
    "We can formalize this by letting $x_i$ be the $i^{th}$ value of $X$, and $p_i$ be the probability of its occurrence. This gives us\n",
    "\n",
    "$$\\mathbb E[X] = \\sum_{i=1}^n p_ix_i$$\n",
    "\n",
    "A trivial bit of algebra shows that if the probabilities are all equal, the expected value is the same as the mean:\n",
    "\n",
    "$$\\mathbb E[X] = \\sum_{i=1}^n p_ix_i = \\frac{1}{n}\\sum_{i=1}^n x_i = \\mu_x$$\n",
    "\n",
    "If $x$ is continuous we substitute the sum for an integral, like so\n",
    "\n",
    "$$\\mathbb E[X] = \\int_{-\\infty}^\\infty x\\, f(x) \\,dx$$\n",
    "\n",
    "where $f(x)$ is the probability distribution function of $x$. We won't be using this equation yet, but we will be using it in the next chapter."
   ]
  },
  {
   "cell_type": "markdown",
   "metadata": {},
   "source": [
    "### Variance of a Random Variable\n",
    "\n",
    "The computation above tells us the average height of the students, but it doesn't tell us everything we might want to know. For example, suppose we have three classes of students, which we label $X$, $Y$, and $Z$, with these heights:"
   ]
  },
  {
   "cell_type": "code",
   "execution_count": 4,
   "metadata": {},
   "outputs": [],
   "source": [
    "X = [1.8, 2.0, 1.7, 1.9, 1.6]\n",
    "Y = [2.2, 1.5, 2.3, 1.7, 1.3]\n",
    "Z = [1.8, 1.8, 1.8, 1.8, 1.8]"
   ]
  },
  {
   "cell_type": "markdown",
   "metadata": {},
   "source": [
    "Using NumPy we see that the mean height of each class is the same. "
   ]
  },
  {
   "cell_type": "code",
   "execution_count": 5,
   "metadata": {},
   "outputs": [
    {
     "name": "stdout",
     "output_type": "stream",
     "text": [
      "1.8\n",
      "1.8\n",
      "1.8\n"
     ]
    }
   ],
   "source": [
    "print(np.mean(X))\n",
    "print(np.mean(Y))\n",
    "print(np.mean(Z))"
   ]
  },
  {
   "cell_type": "markdown",
   "metadata": {},
   "source": [
    "The mean of each class is 1.8 meters, but notice that there is a much greater amount of variation in the heights in the second class than in the first class, and that there is no variation at all in the third class.\n",
    "\n",
    "The mean tells us something about the data, but not the whole story. We want to be able to specify how much *variation* there is between the heights of the students. You can imagine a number of reasons for this. Perhaps a school district needs to order 5,000 desks, and they want to be sure they buy sizes that accommodate the range of heights of the students. \n",
    "\n",
    "Statistics has formalized this concept of measuring variation into the notion of [*standard deviation*](https://en.wikipedia.org/wiki/Standard_deviation) and [*variance*](https://en.wikipedia.org/wiki/Variance). The equation for computing the variance is\n",
    "\n",
    "$$\\mathit{VAR}(X) = E[(X - \\mu)^2]$$\n",
    "\n",
    "Ignoring the squaring for a moment, you can see that the variance is the *expected value* for how much the sample space $X$ varies from the mean $\\mu:$ ($X-\\mu)$. I will explain the purpose of the squared term later. We have the formula for the expected value $E[X] = \\sum\\limits_{i=1}^n p_ix_i$ so we can substitute that into the equation above to get\n",
    "\n",
    "$$\\mathit{VAR}(X) = \\frac{1}{n}\\sum_{i=1}^n (x_i - \\mu)^2$$\n",
    " \n",
    "Let's compute the variance of the three classes to see what values we get and to become familiar with this concept.\n",
    "\n",
    "The mean of $X$ is 1.8 ($\\mu_x = 1.8$) so we compute\n",
    "\n",
    "$$ \n",
    "\\begin{aligned}\n",
    "\\mathit{VAR}(X) &=\\frac{(1.8-1.8)^2 + (2-1.8)^2 + (1.7-1.8)^2 + (1.9-1.8)^2 + (1.6-1.8)^2} {5} \\\\\n",
    "&= \\frac{0 + 0.04 + 0.01 + 0.01 + 0.04}{5} \\\\\n",
    "\\mathit{VAR}(X)&= 0.02 \\, m^2\n",
    "\\end{aligned}$$\n",
    "\n",
    "NumPy provides the function `var()` to compute the variance:"
   ]
  },
  {
   "cell_type": "code",
   "execution_count": 6,
   "metadata": {},
   "outputs": [
    {
     "name": "stdout",
     "output_type": "stream",
     "text": [
      "0.01999999999999999 meters squared\n"
     ]
    }
   ],
   "source": [
    "print(np.var(X), \"meters squared\")"
   ]
  },
  {
   "cell_type": "markdown",
   "metadata": {},
   "source": [
    "This is perhaps a bit hard to interpret. Heights are in meters, yet the variance is meters squared. Thus we have a more commonly used measure, the *standard deviation*, which is defined as the square root of the variance:\n",
    "\n",
    "$$\\sigma = \\sqrt{\\mathit{VAR}(X)}=\\sqrt{\\frac{1}{n}\\sum_{i=1}^n(x_i - \\mu)^2}$$\n",
    "\n",
    "It is typical to use $\\sigma$ for the *standard deviation* and $\\sigma^2$ for the *variance*. In most of this book I will be using $\\sigma^2$ instead of $\\mathit{VAR}(X)$ for the variance; they symbolize the same thing.\n",
    "\n",
    "For the first class we compute the standard deviation with\n",
    "\n",
    "$$ \n",
    "\\begin{aligned}\n",
    "\\sigma_x &=\\sqrt{\\frac{(1.8-1.8)^2 + (2-1.8)^2 + (1.7-1.8)^2 + (1.9-1.8)^2 + (1.6-1.8)^2} {5}} \\\\\n",
    "&= \\sqrt{\\frac{0 + 0.04 + 0.01 + 0.01 + 0.04}{5}} \\\\\n",
    "\\sigma_x&= 0.1414\n",
    "\\end{aligned}$$\n",
    "\n",
    "We can verify this computation with the NumPy method `numpy.std()` which computes the standard deviation. 'std' is a common abbreviation for standard deviation."
   ]
  },
  {
   "cell_type": "code",
   "execution_count": 7,
   "metadata": {},
   "outputs": [
    {
     "name": "stdout",
     "output_type": "stream",
     "text": [
      "std 0.1414\n",
      "var 0.0200\n"
     ]
    }
   ],
   "source": [
    "print('std {:.4f}'.format(np.std(X)))\n",
    "print('var {:.4f}'.format(np.std(X)**2))"
   ]
  },
  {
   "cell_type": "markdown",
   "metadata": {},
   "source": [
    "And, of course, $0.1414^2 = 0.02$, which agrees with our earlier computation of the variance.\n",
    "\n",
    "What does the standard deviation signify? It tells us how much the heights vary amongst themselves. \"How much\" is not a mathematical term. We will be able to define it much more precisely once we introduce the concept of a Gaussian in the next section. For now I'll say that for many things 68% of all values lie within one standard deviation of the mean. In other words we can conclude that for a random class 68% of the students will have heights between 1.66 (1.8-0.1414) meters and 1.94 (1.8+0.1414) meters. \n",
    "\n",
    "We can view this in a plot:"
   ]
  },
  {
   "cell_type": "code",
   "execution_count": 8,
   "metadata": {
    "scrolled": true
   },
   "outputs": [
    {
     "data": {
      "image/png": "[encoded data removed]",
      "text/plain": [
       "<Figure size 432x288 with 1 Axes>"
      ]
     },
     "metadata": {},
     "output_type": "display_data"
    }
   ],
   "source": [
    "from kf_book.book_plots import set_figsize, figsize\n",
    "from kf_book.gaussian_internal import plot_height_std\n",
    "import matplotlib.pyplot as plt\n",
    "\n",
    "plot_height_std(X)"
   ]
  },
  {
   "cell_type": "markdown",
   "metadata": {},
   "source": [
    "For only 5 students we obviously will not get exactly 68% within one standard deviation. We do see that 3 out of 5 students are within $\\pm1\\sigma$, or 60%, which is as close as you can get to 68% with only 5 samples. I haven't yet introduced enough math or Python for you to fully understand the next bit of code, but let's look at the results for a class with 100 students.\n",
    "\n",
    ">  We write one standard deviation as  $1\\sigma$, which is pronounced \"one standard deviation\", not \"one sigma\". Two standard deviations is $2\\sigma$, and so on."
   ]
  },
  {
   "cell_type": "code",
   "execution_count": 9,
   "metadata": {},
   "outputs": [
    {
     "data": {
      "image/png": "[encoded data removed]",
      "text/plain": [
       "<Figure size 432x288 with 1 Axes>"
      ]
     },
     "metadata": {},
     "output_type": "display_data"
    },
    {
     "name": "stdout",
     "output_type": "stream",
     "text": [
      "mean = 1.797\n",
      "std  = 0.146\n"
     ]
    }
   ],
   "source": [
    "from numpy.random import randn\n",
    "data = [1.8 + .1414*randn() for i in range(100)]\n",
    "\n",
    "plot_height_std(data, lw=2)\n",
    "print('mean = {:.3f}'.format(np.mean(data)))\n",
    "print('std  = {:.3f}'.format(np.std(data)))"
   ]
  },
  {
   "cell_type": "markdown",
   "metadata": {},
   "source": [
    "We can see by eye that roughly 68% of the heights lie within $\\pm1\\sigma$ of the mean 1.8.\n",
    "\n",
    "We'll discuss this in greater depth soon. For now let's compute the standard deviation for \n",
    "\n",
    "$$Y = [2.2, 1.5, 2.3, 1.7, 1.3]$$\n",
    "\n",
    "The mean of $Y$ is $\\mu=1.8$ m, so \n",
    "\n",
    "$$ \n",
    "\\begin{aligned}\n",
    "\\sigma_y &=\\sqrt{\\frac{(2.2-1.8)^2 + (1.5-1.8)^2 + (2.3-1.8)^2 + (1.7-1.8)^2 + (1.3-1.8)^2} {5}} \\\\\n",
    "&= \\sqrt{0.152} = 0.39 \\ m\n",
    "\\end{aligned}$$\n",
    "\n",
    "We will verify that with NumPy with"
   ]
  },
  {
   "cell_type": "code",
   "execution_count": 10,
   "metadata": {},
   "outputs": [
    {
     "name": "stdout",
     "output_type": "stream",
     "text": [
      "std of Y is 0.39 m\n"
     ]
    }
   ],
   "source": [
    "print('std of Y is {:.2f} m'.format(np.std(Y)))"
   ]
  },
  {
   "cell_type": "markdown",
   "metadata": {},
   "source": [
    "This corresponds with what we would expect. There is more variation in the heights for $Y$, and the standard deviation is larger.\n",
    "\n",
    "Finally, let's compute the standard deviation for $Z$. There is no variation in the values, so we would expect the standard deviation to be zero. We show this to be true with\n",
    "\n",
    "$$ \n",
    "\\begin{aligned}\n",
    "\\sigma_z &=\\sqrt{\\frac{(1.8-1.8)^2 + (1.8-1.8)^2 + (1.8-1.8)^2 + (1.8-1.8)^2 + (1.8-1.8)^2} {5}} \\\\\n",
    "&= \\sqrt{\\frac{0+0+0+0+0}{5}} \\\\\n",
    "\\sigma_z&= 0.0 \\ m\n",
    "\\end{aligned}$$"
   ]
  },
  {
   "cell_type": "code",
   "execution_count": 11,
   "metadata": {},
   "outputs": [
    {
     "name": "stdout",
     "output_type": "stream",
     "text": [
      "0.0\n"
     ]
    }
   ],
   "source": [
    "print(np.std(Z))"
   ]
  },
  {
   "cell_type": "markdown",
   "metadata": {},
   "source": [
    "Before we continue I need to point out that I'm ignoring that on average  men are taller than women. In general the height variance of a class that contains only men or women will be smaller than a class with both sexes. This is true for other factors as well. Well nourished children are taller than malnourished children. Scandinavians are taller than Italians. When designing experiments statisticians need to take these factors into account. \n",
    "\n",
    "I suggested we might be performing this analysis to order desks for a school district.  For each age group there are likely to be two different means - one clustered around the mean height of the females, and a second mean clustered around the mean heights of the males. The mean of the entire class will be somewhere between the two. If we bought desks for the mean of all students we are likely to end up with desks that fit neither the males or females in the school! \n",
    "\n",
    "We will not be faced with these kinds of problems in this book.  Consult any standard probability text if you need to learn techniques to deal with these issues."
   ]
  },
  {
   "cell_type": "markdown",
   "metadata": {},
   "source": [
    "### Why the Square of the Differences\n",
    "\n",
    "Why are we taking the *square* of the differences for the variance? I could go into a lot of math, but let's look at this in a simple way. Here is a chart of the values of $X$ plotted against the mean for $X=[3,-3,3,-3]$"
   ]
  },
  {
   "cell_type": "code",
   "execution_count": 12,
   "metadata": {},
   "outputs": [
    {
     "data": {
      "image/png": "[encoded data removed]",
      "text/plain": [
       "<Figure size 432x288 with 1 Axes>"
      ]
     },
     "metadata": {},
     "output_type": "display_data"
    }
   ],
   "source": [
    "X = [3, -3, 3, -3]\n",
    "mean = np.average(X)\n",
    "for i in range(len(X)):\n",
    "    plt.plot([i ,i], [mean, X[i]], color='k')\n",
    "plt.axhline(mean)\n",
    "plt.xlim(-1, len(X))\n",
    "plt.tick_params(axis='x', labelbottom=False)"
   ]
  },
  {
   "cell_type": "markdown",
   "metadata": {},
   "source": [
    "If we didn't take the square of the differences the signs would cancel everything out:\n",
    "\n",
    "$$\\frac{(3-0) + (-3-0) + (3-0) + (-3-0)}{4} = 0$$\n",
    "\n",
    "This is clearly incorrect, as there is more than 0 variance in the data. \n",
    "\n",
    "Maybe we can use the absolute value? We can see by inspection that the result is $12/4=3$ which is certainly correct — each value varies by 3 from the mean. But what if we have $Y=[6, -2, -3, 1]$? In this case we get $12/4=3$. $Y$ is clearly more spread out than $X$, but the computation yields the same variance. If we use the formula using squares we get a variance of 3.5 for $Y$, which reflects its larger variation.\n",
    "\n",
    "This is not a proof of correctness. Indeed, Carl Friedrich Gauss, the inventor of the technique, recognized that it is somewhat arbitrary. If there are outliers then squaring the difference gives disproportionate weight to that term. For example, let's see what happens if we have:"
   ]
  },
  {
   "cell_type": "code",
   "execution_count": 13,
   "metadata": {},
   "outputs": [
    {
     "name": "stdout",
     "output_type": "stream",
     "text": [
      "Variance of X = 1210.69\n"
     ]
    }
   ],
   "source": [
    "X = [1, -1, 1, -2, 3, 2, 100]\n",
    "print('Variance of X = {:.2f}'.format(np.var(X)))"
   ]
  },
  {
   "cell_type": "markdown",
   "metadata": {},
   "source": [
    "Is this \"correct\"? You tell me. Without the outlier of 100 we get $\\sigma^2=2.89$, which accurately reflects how $X$ is varying absent the outlier. The one outlier swamps the computation. Do we want to swamp the computation so we know there is an outlier, or robustly incorporate the outlier and still provide an estimate close to the value absent the outlier? I will not continue down this path; if you are interested you might want to look at the work that James Berger has done on this problem, in a field called *Bayesian robustness*, or the excellent publications on *robust statistics* by Peter J. Huber [3]. In this book we will always use variance and standard deviation as defined by Gauss."
   ]
  },
  {
   "cell_type": "markdown",
   "metadata": {},
   "source": [
    "## Gaussians\n",
    "\n",
    "We are now ready to learn about [Gaussians](https://en.wikipedia.org/wiki/Gaussian_function). Let's remind ourselves of the motivation for this chapter.\n",
    "\n",
    "> We desire a unimodal, continuous way to represent probabilities that models how the real world works, and that is computationally efficient to calculate.\n",
    "\n",
    "Let's look at a graph of a Gaussian distribution to get a sense of what we are talking about."
   ]
  },
  {
   "cell_type": "code",
   "execution_count": 14,
   "metadata": {},
   "outputs": [
    {
     "data": {
      "image/png": "[encoded data removed]",
      "text/plain": [
       "<Figure size 432x288 with 1 Axes>"
      ]
     },
     "metadata": {},
     "output_type": "display_data"
    }
   ],
   "source": [
    "from filterpy.stats import plot_gaussian_pdf\n",
    "plt.figure()\n",
    "plot_gaussian_pdf(mean=1.8, variance=0.1414**2, \n",
    "                  xlabel='Student Height', ylabel='pdf');"
   ]
  },
  {
   "cell_type": "markdown",
   "metadata": {},
   "source": [
    "This curve is a [*probability density function*](https://en.wikipedia.org/wiki/Probability_density_function) or *pdf* for short. It shows the relative likelihood  for the random variable to take on a value. In the chart above, a student is somewhat more likely to have a height near 1.8 m than 1.7 m, and far more likely to have a height of 1.9 m vs 1.4 m.\n",
    "\n",
    "> I explain how to plot Gaussians, and much more, in the Notebook *Computing_and_Plotting_PDFs* in the \n",
    "Supporting_Notebooks folder. You can read it online [here](https://github.com/rlabbe/Kalman-and-Bayesian-Filters-in-Python/blob/master/Supporting_Notebooks/Computing_and_plotting_PDFs.ipynb) [1].\n",
    "\n",
    "This may be recognizable to you as a 'bell curve'. This curve is ubiquitous because under real world conditions many observations are distributed in such a manner. I will not use the term 'bell curve' to refer to a Gaussian because many probability distributions have a similar bell curve shape. Non-mathematical sources might not be as precise, so be judicious in what you conclude when you see the term used without definition.\n",
    "\n",
    "This curve is not unique to heights — a vast amount of natural phenomena exhibits this sort of distribution, including the sensors that we use in filtering problems. As we will see, it also has all the attributes that we are looking for — it represents a unimodal belief or value as a probability, it is continuous, and it is computationally efficient. We will soon discover that it also has other desirable qualities which we may not realize we desire.\n",
    "\n",
    "To further motivate you, recall the shapes of the probability distributions in the *Discrete Bayes* chapter:"
   ]
  },
  {
   "cell_type": "code",
   "execution_count": 15,
   "metadata": {},
   "outputs": [
    {
     "data": {
      "image/png": "[encoded data removed]",
      "text/plain": [
       "<Figure size 432x288 with 1 Axes>"
      ]
     },
     "metadata": {},
     "output_type": "display_data"
    }
   ],
   "source": [
    "import kf_book.book_plots as book_plots\n",
    "belief = [ 0.,0., 0., 0.1, 0.15, 0.5, 0.2, .15, 0, 0]\n",
    "book_plots.bar_plot(belief)"
   ]
  },
  {
   "cell_type": "markdown",
   "metadata": {},
   "source": [
    "They were not perfect Gaussian curves, but they were similar. We will be using Gaussians to replace the discrete probabilities used in that chapter!"
   ]
  },
  {
   "cell_type": "markdown",
   "metadata": {},
   "source": [
    "## Nomenclature\n",
    "\n",
    "A bit of nomenclature before we continue - this chart depicts the *probability density* of a *random variable* having any value between ($-\\infty..\\infty)$. What does that mean? Imagine we take an infinite number of infinitely precise measurements of the speed of automobiles on a section of highway. We could then plot the results by showing the relative number of cars going past at any given speed. If the average was 120 kph, it might look like this:"
   ]
  },
  {
   "cell_type": "code",
   "execution_count": 16,
   "metadata": {},
   "outputs": [
    {
     "data": {
      "image/png": "[encoded data removed]",
      "text/plain": [
       "<Figure size 432x288 with 1 Axes>"
      ]
     },
     "metadata": {},
     "output_type": "display_data"
    }
   ],
   "source": [
    "plot_gaussian_pdf(mean=120, variance=17**2, xlabel='speed(kph)');"
   ]
  },
  {
   "cell_type": "markdown",
   "metadata": {},
   "source": [
    "The y-axis depicts the *probability density* — the relative amount of cars that are going the speed at the corresponding x-axis. I will explain this further in the next section.\n",
    "\n",
    "The Gaussian model is imperfect. For example, you may object that human heights or automobile speeds cannot be less than zero, let alone $-\\infty$ or $\\infty$. “The map is not the territory” is a common expression, and it is true for Bayesian filtering and statistics. The Gaussian distribution above models the distribution of the measured automobile speeds, but being a model it is necessarily imperfect. The difference between model and reality will come up again and again in these filters. Gaussians are used in many branches of mathematics, not because they perfectly model reality, but because they are easier to use than any other relatively accurate choice. However, even in this book Gaussians will fail to model reality, forcing us to use computationally expensive alternatives. \n",
    "\n",
    "You will hear these distributions called *Gaussian distributions* or *normal distributions*.  *Gaussian* and *normal* both mean the same thing in this context, and are used interchangeably. I will use both throughout this book as different sources will use either term, and I want you to be used to seeing both. Finally, as in this paragraph, it is typical to shorten the name and talk about a *Gaussian* or *normal* — these are both typical shortcut names for the *Gaussian distribution*. "
   ]
  },
  {
   "cell_type": "markdown",
   "metadata": {},
   "source": [
    "## Gaussian Distributions\n",
    "\n",
    "Let's explore how Gaussians work. A Gaussian is a *continuous probability distribution* that is completely described with two parameters, the mean ($\\mu$) and the variance ($\\sigma^2$). It is defined as:\n",
    "\n",
    "$$ \n",
    "f(x, \\mu, \\sigma) = \\frac{1}{\\sigma\\sqrt{2\\pi}} \\exp\\big [{-\\frac{(x-\\mu)^2}{2\\sigma^2} }\\big ]\n",
    "$$\n",
    "\n",
    "$\\exp[x]$ is notation for $e^x$.\n",
    "\n",
    "<p> Don't be dissuaded by the equation if you haven't seen it before; you will not need to memorize or manipulate it. The computation of this function is stored in `stats.py` with the function `gaussian(x, mean, var)`.\n",
    "\n",
    "> **Optional:** Let's remind ourselves how to look at a function stored in a file by using the *%load* magic. If you type *%load -s gaussian stats.py* into a code cell and then press CTRL-Enter, the notebook will create a new input cell and load the function into it.\n",
    "\n",
    "```python\n",
    "%load -s gaussian stats.py\n",
    "\n",
    "def gaussian(x, mean, var):\n",
    "    \"\"\"returns normal distribution for x given a \n",
    "    gaussian with the specified mean and variance. \n",
    "    \"\"\"\n",
    "    return (np.exp((-0.5*(np.asarray(x)-mean)**2)/var) /\n",
    "            math.sqrt(2*math.pi*var))\n",
    "\n",
    "```\n",
    "\n",
    "<p><p><p><p>We will plot a Gaussian with a mean of 22 $(\\mu=22)$, with a variance of 4 $(\\sigma^2=4)$, and then discuss what this means. "
   ]
  },
  {
   "cell_type": "code",
   "execution_count": 17,
   "metadata": {
    "scrolled": true
   },
   "outputs": [
    {
     "data": {
      "image/png": "[encoded data removed]",
      "text/plain": [
       "<Figure size 432x288 with 1 Axes>"
      ]
     },
     "metadata": {},
     "output_type": "display_data"
    }
   ],
   "source": [
    "plot_gaussian_pdf(22, 4, mean_line=True, xlabel='$^{\\circ}C$');"
   ]
  },
  {
   "cell_type": "markdown",
   "metadata": {},
   "source": [
    "What does this curve *mean*? Assume we have a thermometer which reads 22°C. No thermometer is perfectly accurate, and so we expect that each reading will be slightly off the actual value. However, a theorem called  [*Central Limit Theorem*](https://en.wikipedia.org/wiki/Central_limit_theorem) states that if we make many measurements that the measurements will be normally distributed. When we look at this chart we can \"sort of\" think of it as representing the probability of the thermometer reading a particular value given the actual temperature of 22°C. \n",
    "\n",
    "Recall that a Gaussian distribution is *continuous*. Think of an infinitely long straight line - what is the probability that a point you pick randomly is at 2. Clearly 0%, as there is an infinite number of choices to choose from. The same is true for normal distributions; in the graph above the probability of being *exactly* 2°C is 0% because there are an infinite number of values the reading can take.\n",
    "\n",
    "What is this curve? It is something we call the *probability density function.* The area under the curve at any region gives you the probability of those values. So, for example, if you compute the area under the curve between 20 and 22 the resulting area will be the probability of the temperature reading being between those two temperatures. \n",
    "\n",
    "Here is another way to understand it. What is the *density* of a rock, or a sponge? It is a measure of how much mass is compacted into a given space. Rocks are dense, sponges less so. So, if you wanted to know how much a rock weighed but didn't have a scale, you could take its volume and multiply by its density. This would give you its mass. In practice density varies in most objects, so you would integrate the local density across the rock's volume.\n",
    "\n",
    "$$M = \\iiint_R p(x,y,z)\\, dV$$\n",
    "\n",
    "We do the same with *probability density*. If you want to know the temperature being between 20°C and 21°C kph you would integrate the curve above from 20 to 21. As you know the integral of a curve gives you the area under the curve. Since this is a curve of the probability density, the integral of the density is the probability. \n",
    "\n",
    "What is the probability of a the temperature being exactly 22°C? Intuitively, 0. These are real numbers, and the odds of 22°C vs, say, 22.00000000000017°C is infitesimal. Mathematically, what would we get if we integrate from 22 to 22? Zero. \n",
    "\n",
    "In practice our sensors do not have infinite precision, so a reading of 22°C implies a range, such as 22 $\\pm$ 0.1°C, and we can compute the probability of that range by integrating from 21.9 to 22.1.\n",
    "\n",
    "We can think of this in Bayesian terms or frequentist terms. As a Bayesian, if the thermometer reads exactly 22°C, then our belief is described by the curve - our belief that the actual (system) temperature is near 22°C is very high, and our belief that the actual temperature is near 18 is very low. As a frequentist we would say that if we took 1 billion temperature measurements of a system at exactly 22°C, then a histogram of the measurements would look like this curve. \n",
    "\n",
    "How do you compute the probability, or area under the curve? You integrate the equation for the Gaussian \n",
    "\n",
    "$$ \\int^{x_1}_{x_0}  \\frac{1}{\\sigma\\sqrt{2\\pi}} e^{-\\frac{1}{2}{(x-\\mu)^2}/\\sigma^2 } dx$$\n",
    "\n",
    "I wrote `filterpy.stats.norm_cdf` which computes the integral for you. For example, we can compute"
   ]
  },
  {
   "cell_type": "code",
   "execution_count": 18,
   "metadata": {},
   "outputs": [
    {
     "name": "stdout",
     "output_type": "stream",
     "text": [
      "Probability of range 21.5 to 22.5 is 19.74%\n",
      "Probability of range 23.5 to 24.5 is 12.10%\n"
     ]
    }
   ],
   "source": [
    "from filterpy.stats import norm_cdf\n",
    "print('Probability of range 21.5 to 22.5 is {:.2f}%'.format(\n",
    "      norm_cdf((21.5, 22.5), 22,4)*100))\n",
    "print('Probability of range 23.5 to 24.5 is {:.2f}%'.format(\n",
    "      norm_cdf((23.5, 24.5), 22,4)*100))"
   ]
  },
  {
   "cell_type": "markdown",
   "metadata": {},
   "source": [
    "The mean ($\\mu$) is what it sounds like — the average of all possible probabilities. Because of the symmetric shape of the curve it is also the tallest part of the curve. The thermometer reads 22°C, so that is what we used for the mean.  \n",
    "\n",
    "The notation for a normal distribution for a random variable $X$ is $X \\sim\\ \\mathcal{N}(\\mu,\\sigma^2)$ where $\\sim$ means *distributed according to*. This means I can express the temperature reading of our thermometer as\n",
    "\n",
    "$$\\text{temp} \\sim \\mathcal{N}(22,4)$$\n",
    "\n",
    "This is an extremely important result. Gaussians allow me to capture an infinite number of possible values with only two numbers! With the values $\\mu=22$ and $\\sigma^2=4$ I can compute the distribution of measurements for over any range.\n",
    "\n",
    "> Some sources use $\\mathcal N (\\mu, \\sigma)$ instead of $\\mathcal N (\\mu, \\sigma^2)$. Either is fine, they are both conventions. You need to keep in mind which form is being used if you see a term such as $\\mathcal{N}(22,4)$. In this book I always use $\\mathcal N (\\mu, \\sigma^2)$, so $\\sigma=2$, $\\sigma^2=4$ for this example."
   ]
  },
  {
   "cell_type": "markdown",
   "metadata": {},
   "source": [
    "## The Variance and Belief\n",
    "\n",
    "Since this is a probability density distribution it is required that the area under the curve always equals one. This should be intuitively clear — the area under the curve represents all possible outcomes, *something* happened, and the probability of *something happening* is one, so the density must sum to one. We can prove this ourselves with a bit of code. (If you are mathematically inclined, integrate the Gaussian equation from $-\\infty$ to $\\infty$)"
   ]
  },
  {
   "cell_type": "code",
   "execution_count": 19,
   "metadata": {},
   "outputs": [
    {
     "name": "stdout",
     "output_type": "stream",
     "text": [
      "1.0\n"
     ]
    }
   ],
   "source": [
    "print(norm_cdf((-1e8, 1e8), mu=0, var=4))"
   ]
  },
  {
   "cell_type": "markdown",
   "metadata": {},
   "source": [
    "This leads to an important insight. If the variance is small the curve will be narrow. this is because the variance is a measure of *how much* the samples vary from the mean. To keep the area equal to 1, the curve must also be tall. On the other hand if the variance is large the curve will be wide, and thus it will also have to be short to make the area equal to 1.\n",
    "\n",
    "Let's look at that graphically:"
   ]
  },
  {
   "cell_type": "code",
   "execution_count": 20,
   "metadata": {
    "scrolled": true
   },
   "outputs": [
    {
     "data": {
      "image/png": "[encoded data removed]",
      "text/plain": [
       "<Figure size 432x288 with 1 Axes>"
      ]
     },
     "metadata": {},
     "output_type": "display_data"
    }
   ],
   "source": [
    "from filterpy.stats import gaussian\n",
    "\n",
    "xs = np.arange(15, 30, 0.05)\n",
    "plt.plot(xs, gaussian(xs, 23, 0.05), label='$\\sigma^2$=0.05')\n",
    "plt.plot(xs, gaussian(xs, 23, 1), label='$\\sigma^2$=1', ls=':')\n",
    "plt.plot(xs, gaussian(xs, 23, 5), label='$\\sigma^2$=5', ls='--')\n",
    "plt.legend()\n",
    "plt.show()"
   ]
  },
  {
   "cell_type": "markdown",
   "metadata": {},
   "source": [
    "What is this telling us? The Gaussian with $\\sigma^2=0.05$ is very narrow. It is saying that we believe $x=23$, and that we are very sure about that. In contrast, the Gaussian with $\\sigma^2=5$ also believes that $x=23$, but we are much less sure about that. Our believe that $x=23$ is lower, and so our belief about the likely possible values for $x$ is spread out — we think it is quite likely that $x=20$ or $x=26$, for example. $\\sigma^2=0.05$ has almost completely eliminated $22$ or $24$ as possible values, whereas $\\sigma^2=5$ considers them nearly as likely as $23$.\n",
    "\n",
    "If we think back to the thermometer, we can consider these three curves as representing the readings from three different thermometers. The curve for $\\sigma^2=0.05$ represents a very accurate thermometer, and curve for $\\sigma^2=5$ represents a fairly inaccurate one. Note the very powerful property the Gaussian distribution affords us — we can entirely represent both the reading and the error of a thermometer with only two numbers — the mean and the variance.\n",
    "\n",
    "An equivalent formation for a Gaussian is $\\mathcal{N}(\\mu,1/\\tau)$ where $\\mu$ is the *mean* and $\\tau$ the *precision*. $1/\\tau = \\sigma^2$; it is the reciprocal of the variance. While we do not use this formulation in this book, it underscores that the variance is a measure of how precise our data is. A small variance yields large precision — our measurement is very precise. Conversely, a large variance yields low precision — our belief is spread out across a large area. You should become comfortable with thinking about Gaussians in these equivalent forms. In Bayesian terms Gaussians reflect our *belief* about a measurement, they express the *precision* of the measurement, and they express how much *variance* there is in the measurements. These are all different ways of stating the same fact.\n",
    "\n",
    "I'm getting ahead of myself, but in the next chapters we will use Gaussians to express our belief in things like the estimated position of the object we are tracking, or the accuracy of the sensors we are using."
   ]
  },
  {
   "cell_type": "markdown",
   "metadata": {},
   "source": [
    "## The  68-95-99.7 Rule\n",
    "\n",
    "It is worth spending a few words on standard deviation now. The standard deviation is a measure of how much variation from the mean exists. For Gaussian distributions, 68% of all the data falls within one standard deviation ($\\pm1\\sigma$) of the mean, 95% falls within two standard deviations ($\\pm2\\sigma$), and 99.7% within three ($\\pm3\\sigma$). This is often called the [68-95-99.7 rule](https://en.wikipedia.org/wiki/68%E2%80%9395%E2%80%9399.7_rule). If you were told that the average test score in a class was 71 with a standard deviation of 9.4, you could conclude that 95% of the students received a score between 52.2 and 89.8 if the distribution is normal (that is calculated with $71 \\pm (2 * 9.4)$). \n",
    "\n",
    "Finally, these are not arbitrary numbers. If the Gaussian for our position is $\\mu=22$ meters, then the standard deviation also has units meters. Thus $\\sigma=0.2$ implies that 68% of the measurements range from 21.8 to 22.2 meters. Variance is the standard deviation squared, thus $\\sigma^2 = .04$ meters$^2$.\n",
    "\n",
    "The following graph depicts the relationship between the standard deviation and the normal distribution. "
   ]
  },
  {
   "cell_type": "code",
   "execution_count": 21,
   "metadata": {},
   "outputs": [
    {
     "data": {
      "image/png": "[encoded data removed]",
      "text/plain": [
       "<Figure size 432x288 with 1 Axes>"
      ]
     },
     "metadata": {},
     "output_type": "display_data"
    }
   ],
   "source": [
    "from kf_book.gaussian_internal import display_stddev_plot\n",
    "display_stddev_plot()"
   ]
  },
  {
   "cell_type": "markdown",
   "metadata": {},
   "source": [
    "## Interactive Gaussians\n",
    "\n",
    "For those that are reading this in a Jupyter Notebook, here is an interactive version of the Gaussian plots. Use the sliders to modify $\\mu$ and $\\sigma^2$. Adjusting $\\mu$ will move the graph to the left and right because you are adjusting the mean, and adjusting $\\sigma^2$ will make the bell curve thicker and thinner."
   ]
  },
  {
   "cell_type": "code",
   "execution_count": 22,
   "metadata": {},
   "outputs": [
    {
     "data": {
      "image/png": "[encoded data removed]",
      "text/plain": [
       "<Figure size 576x216 with 1 Axes>"
      ]
     },
     "metadata": {},
     "output_type": "display_data"
    }
   ],
   "source": [
    "import math\n",
    "from ipywidgets import interact, interactive, fixed\n",
    "\n",
    "set_figsize(y=3)\n",
    "def plt_g(mu,variance):\n",
    "    plt.figure()\n",
    "    xs = np.arange(2, 8, 0.1)\n",
    "    ys = gaussian(xs, mu, variance)\n",
    "    plt.plot(xs, ys)\n",
    "    plt.ylim((0, 1))\n",
    "\n",
    "interact (plt_g, mu=(0., 10), variance = (.2, 1.));"
   ]
  },
  {
   "cell_type": "markdown",
   "metadata": {},
   "source": [
    "Finally, if you are reading this online, here is an animation of a Gaussian. First, the mean is shifted to the right. Then the mean is centered at $\\mu=5$ and the variance is modified.\n",
    "\n",
    "<img src='animations/04_gaussian_animate.gif'>"
   ]
  },
  {
   "cell_type": "markdown",
   "metadata": {},
   "source": [
    "## Computational Properties of Gaussians\n",
    "\n",
    "A remarkable property of Gaussians is that the sum of two independent Gaussians is another Gaussian! The product is not Gaussian, but proportional to a Gaussian.\n",
    "\n",
    "The discrete Bayes filter works by multiplying and adding arbitrary probability distributions. The Kalman filter uses Gaussians instead of arbitrary distributions, but the rest of the algorithm remains the same. This means we will need to multiply and add Gaussians. \n",
    "\n",
    "The Gaussian is a nonlinear function. Typically, if you multiply a nonlinear equation with itself you end up with a different type of equation. For example, the shape of `sin(x)sin(x)` is very different from `sin(x)`. But the result of multiplying two Gaussians is yet another Gaussian. This is a key reason why Kalman filters are computationally feasible. Said another way, Kalman filters use Gaussians *because* they are computationally nice. \n",
    "\n",
    "\n",
    "The product of two independent Gaussians is given by:\n",
    "\n",
    "$$\\begin{aligned}\\mu &=\\frac{\\sigma_1^2\\mu_2 + \\sigma_2^2\\mu_1}{\\sigma_1^2+\\sigma_2^2}\\\\\n",
    "\\sigma^2 &=\\frac{\\sigma_1^2\\sigma_2^2}{\\sigma_1^2+\\sigma_2^2} \n",
    "\\end{aligned}$$\n",
    "\n",
    "The sum of two Gaussians is given by\n",
    "\n",
    "$$\\begin{gathered}\\mu = \\mu_1 + \\mu_2 \\\\\n",
    "\\sigma^2 = \\sigma^2_1 + \\sigma^2_2\n",
    "\\end{gathered}$$\n",
    "\n",
    "The remainder of this section is optional. I will derive the equations for the sum and product of two Gaussians. You will not need to understand this material to understand the rest of the book, so long as you accept the results. "
   ]
  },
  {
   "cell_type": "markdown",
   "metadata": {},
   "source": [
    "### Product of Gaussians\n",
    "\n",
    "You can find this result by multiplying the equation for two Gaussians together and combining terms. The algebra gets messy. I will derive it using Bayes theorem. We can state the problem as: let the prior be $N(\\bar\\mu, \\bar\\sigma^2)$, and measurement be $z \\propto N(z, \\sigma_z^2)$. What is the posterior  x given the measurement z?\n",
    "\n",
    "Write the posterior as $P(x \\mid z)$. Now we can use Bayes Theorem to state\n",
    "\n",
    "$$P(x \\mid z) = \\frac{P(z \\mid x)P(x)}{P(z)}$$\n",
    "\n",
    "$P(z)$ is a normalizing constant, so we can create a proportinality\n",
    "\n",
    "$$P(x \\mid z) \\propto P(z|x)P(x)$$\n",
    "\n",
    "Now we subtitute in the equations for the Gaussians, which are\n",
    "\n",
    "$$P(z \\mid x) = \\frac{1}{\\sqrt{2\\pi\\sigma_z^2}}\\exp \\Big[-\\frac{(z-x)^2}{2\\sigma_z^2}\\Big]$$\n",
    "\n",
    "$$P(x) = \\frac{1}{\\sqrt{2\\pi\\bar\\sigma^2}}\\exp \\Big[-\\frac{(x-\\bar\\mu)^2}{2\\bar\\sigma^2}\\Big]$$\n",
    "\n",
    "We can drop the leading terms, as they are constants, giving us\n",
    "\n",
    "$$\\begin{aligned}\n",
    "P(x \\mid z) &\\propto \\exp \\Big[-\\frac{(z-x)^2}{2\\sigma_z^2}\\Big]\\exp \\Big[-\\frac{(x-\\bar\\mu)^2}{2\\bar\\sigma^2}\\Big]\\\\\n",
    "&\\propto \\exp \\Big[-\\frac{(z-x)^2}{2\\sigma_z^2}-\\frac{(x-\\bar\\mu)^2}{2\\bar\\sigma^2}\\Big] \\\\\n",
    "&\\propto \\exp \\Big[-\\frac{1}{2\\sigma_z^2\\bar\\sigma^2}[\\bar\\sigma^2(z-x)^2-\\sigma_z^2(x-\\bar\\mu)^2]\\Big]\n",
    "\\end{aligned}$$\n",
    "\n",
    "Now we multiply out the squared terms and group in terms of the posterior $x$.\n",
    "\n",
    "$$\\begin{aligned}\n",
    "P(x \\mid z) &\\propto \\exp \\Big[-\\frac{1}{2\\sigma_z^2\\bar\\sigma^2}[\\bar\\sigma^2(z^2 -2xz + x^2) + \\sigma_z^2(x^2 - 2x\\bar\\mu+\\bar\\mu^2)]\\Big ] \\\\\n",
    "&\\propto \\exp \\Big[-\\frac{1}{2\\sigma_z^2\\bar\\sigma^2}[x^2(\\bar\\sigma^2+\\sigma_z^2)-2x(\\sigma_z^2\\bar\\mu + \\bar\\sigma^2z) + (\\bar\\sigma^2z^2+\\sigma_z^2\\bar\\mu^2)]\\Big ]\n",
    "\\end{aligned}$$\n",
    "\n",
    "The last parentheses do not contain the posterior $x$, so it can be treated as a constant and discarded.\n",
    "\n",
    "$$P(x \\mid z) \\propto \\exp \\Big[-\\frac{1}{2}\\frac{x^2(\\bar\\sigma^2+\\sigma_z^2)-2x(\\sigma_z^2\\bar\\mu + \\bar\\sigma^2z)}{\\sigma_z^2\\bar\\sigma^2}\\Big ]\n",
    "$$\n",
    "\n",
    "Divide numerator and denominator by $\\bar\\sigma^2+\\sigma_z^2$ to get\n",
    "\n",
    "$$P(x \\mid z) \\propto \\exp \\Big[-\\frac{1}{2}\\frac{x^2-2x(\\frac{\\sigma_z^2\\bar\\mu + \\bar\\sigma^2z}{\\bar\\sigma^2+\\sigma_z^2})}{\\frac{\\sigma_z^2\\bar\\sigma^2}{\\bar\\sigma^2+\\sigma_z^2}}\\Big ]\n",
    "$$\n",
    "\n",
    "Proportionality allows us create or delete constants at will, so we can factor this into\n",
    "\n",
    "$$P(x \\mid z) \\propto \\exp \\Big[-\\frac{1}{2}\\frac{(x-\\frac{\\sigma_z^2\\bar\\mu + \\bar\\sigma^2z}{\\bar\\sigma^2+\\sigma_z^2})^2}{\\frac{\\sigma_z^2\\bar\\sigma^2}{\\bar\\sigma^2+\\sigma_z^2}}\\Big ]\n",
    "$$\n",
    "\n",
    "A Gaussian is\n",
    "\n",
    "$$N(\\mu,\\, \\sigma^2) \\propto \\exp\\Big [-\\frac{1}{2}\\frac{(x - \\mu)^2}{\\sigma^2}\\Big ]$$\n",
    "\n",
    "So we can see that $P(x \\mid z)$ has a mean of\n",
    "\n",
    "$$\\mu_\\mathtt{posterior} = \\frac{\\sigma_z^2\\bar\\mu + \\bar\\sigma^2z}{\\bar\\sigma^2+\\sigma_z^2}$$\n",
    "\n",
    "and a variance of\n",
    "$$\n",
    "\\sigma_\\mathtt{posterior} = \\frac{\\sigma_z^2\\bar\\sigma^2}{\\bar\\sigma^2+\\sigma_z^2}\n",
    "$$\n",
    "\n",
    "I've dropped the constants, and so the result is not a normal, but proportional to one. Bayes theorem normalizes with the $P(z)$ divisor, ensuring that the result is normal. We normalize in the update step of our filters, ensuring the filter estimate is Gaussian.\n",
    "\n",
    "$$\\mathcal N_1 = \\| \\mathcal N_2\\cdot \\mathcal N_3\\|$$"
   ]
  },
  {
   "cell_type": "markdown",
   "metadata": {},
   "source": [
    "### Sum of Gaussians\n",
    "\n",
    "The sum of two Gaussians is given by\n",
    "\n",
    "$$\\begin{gathered}\\mu = \\mu_1 + \\mu_2 \\\\\n",
    "\\sigma^2 = \\sigma^2_1 + \\sigma^2_2\n",
    "\\end{gathered}$$\n",
    "\n",
    "There are several proofs for this. I will use convolution since we used convolution in the previous chapter for the histograms of probabilities. \n",
    "\n",
    "To find the density function of the sum of two Gaussian random variables we sum the density functions of each. They are nonlinear, continuous functions, so we need to compute the sum with an integral. If the random variables $p$ and $z$ (e.g. prior and measurement) are independent we can compute this with\n",
    "\n",
    "$p(x) = \\int\\limits_{-\\infty}^\\infty f_p(x-z)f_z(z)\\, dx$\n",
    "\n",
    "This is the equation for a convolution. Now we just do some math:\n",
    "\n",
    "\n",
    "$p(x) = \\int\\limits_{-\\infty}^\\infty f_2(x-x_1)f_1(x_1)\\, dx$\n",
    "\n",
    "$=  \\int\\limits_{-\\infty}^\\infty \n",
    "\\frac{1}{\\sqrt{2\\pi}\\sigma_z}\\exp\\left[-\\frac{(x - z - \\mu_z)^2}{2\\sigma^2_z}\\right]\n",
    "\\frac{1}{\\sqrt{2\\pi}\\sigma_p}\\exp\\left[-\\frac{(x - \\mu_p)^2}{2\\sigma^2_p}\\right] \\, dx$\n",
    "\n",
    "$=  \\int\\limits_{-\\infty}^\\infty\n",
    "\\frac{1}{\\sqrt{2\\pi}\\sqrt{\\sigma_p^2 + \\sigma_z^2}} \\exp\\left[ -\\frac{(x - (\\mu_p + \\mu_z)))^2}{2(\\sigma_z^2+\\sigma_p^2)}\\right]\n",
    "\\frac{1}{\\sqrt{2\\pi}\\frac{\\sigma_p\\sigma_z}{\\sqrt{\\sigma_p^2 + \\sigma_z^2}}} \\exp\\left[ -\\frac{(x - \\frac{\\sigma_p^2(x-\\mu_z) + \\sigma_z^2\\mu_p}{}))^2}{2\\left(\\frac{\\sigma_p\\sigma_x}{\\sqrt{\\sigma_z^2+\\sigma_p^2}}\\right)^2}\\right] \\, dx$\n",
    "\n",
    "$= \\frac{1}{\\sqrt{2\\pi}\\sqrt{\\sigma_p^2 + \\sigma_z^2}} \\exp\\left[ -\\frac{(x - (\\mu_p + \\mu_z)))^2}{2(\\sigma_z^2+\\sigma_p^2)}\\right] \\int\\limits_{-\\infty}^\\infty\n",
    "\\frac{1}{\\sqrt{2\\pi}\\frac{\\sigma_p\\sigma_z}{\\sqrt{\\sigma_p^2 + \\sigma_z^2}}} \\exp\\left[ -\\frac{(x - \\frac{\\sigma_p^2(x-\\mu_z) + \\sigma_z^2\\mu_p}{}))^2}{2\\left(\\frac{\\sigma_p\\sigma_x}{\\sqrt{\\sigma_z^2+\\sigma_p^2}}\\right)^2}\\right] \\, dx$\n",
    "\n",
    "The expression inside the integral is a normal distribution. The sum of a normal distribution is one, hence the integral is one. This gives us\n",
    "\n",
    "$$p(x) = \\frac{1}{\\sqrt{2\\pi}\\sqrt{\\sigma_p^2 + \\sigma_z^2}} \\exp\\left[ -\\frac{(x - (\\mu_p + \\mu_z)))^2}{2(\\sigma_z^2+\\sigma_p^2)}\\right]$$\n",
    "\n",
    "This is in the form of a normal, where\n",
    "\n",
    "$$\\begin{gathered}\\mu_x = \\mu_p + \\mu_z \\\\\n",
    "\\sigma_x^2 = \\sigma_z^2+\\sigma_p^2\\, \\square\\end{gathered}$$"
   ]
  },
  {
   "cell_type": "markdown",
   "metadata": {},
   "source": [
    "## Computing Probabilities with scipy.stats\n",
    "\n",
    "In this chapter I used code from [FilterPy](https://github.com/rlabbe/filterpy) to compute and plot Gaussians. I did that to give you a chance to look at the code and see how these functions are implemented.  However, Python comes with \"batteries included\" as the saying goes, and it comes with a wide range of statistics functions in the module `scipy.stats`. So let's walk through how to use scipy.stats to compute statistics and probabilities.\n",
    "\n",
    "The `scipy.stats` module contains a number of objects which you can use to compute attributes of various probability distributions. The full documentation for this module is here: http://docs.scipy.org/doc/scipy/reference/stats.html. We will focus on the  norm variable, which implements the normal distribution. Let's look at some code that uses `scipy.stats.norm` to compute a Gaussian, and compare its value to the value returned by the `gaussian()` function from FilterPy."
   ]
  },
  {
   "cell_type": "code",
   "execution_count": 23,
   "metadata": {
    "scrolled": true
   },
   "outputs": [
    {
     "name": "stdout",
     "output_type": "stream",
     "text": [
      "0.13114657203397997\n",
      "0.13114657203397997\n"
     ]
    }
   ],
   "source": [
    "from scipy.stats import norm\n",
    "import filterpy.stats\n",
    "print(norm(2, 3).pdf(1.5))\n",
    "print(filterpy.stats.gaussian(x=1.5, mean=2, var=3*3))"
   ]
  },
  {
   "cell_type": "markdown",
   "metadata": {},
   "source": [
    "The call `norm(2, 3)` creates what scipy calls a 'frozen' distribution - it creates and returns an object with a mean of 2 and a standard deviation of 3. You can then use this object multiple times to get the probability density of various values, like so:"
   ]
  },
  {
   "cell_type": "code",
   "execution_count": 24,
   "metadata": {},
   "outputs": [
    {
     "name": "stdout",
     "output_type": "stream",
     "text": [
      "pdf of 1.5 is       0.1311\n",
      "pdf of 2.5 is also  0.1311\n",
      "pdf of 2 is         0.1330\n"
     ]
    }
   ],
   "source": [
    "n23 = norm(2, 3)\n",
    "print('pdf of 1.5 is       %.4f' % n23.pdf(1.5))\n",
    "print('pdf of 2.5 is also  %.4f' % n23.pdf(2.5))\n",
    "print('pdf of 2 is         %.4f' % n23.pdf(2))"
   ]
  },
  {
   "cell_type": "markdown",
   "metadata": {},
   "source": [
    "The documentation for  [scipy.stats.norm](http://docs.scipy.org/doc/scipy/reference/generated/scipy.stats.norm.html#scipy.stats.normfor) [2] lists many other functions. For example, we can generate $n$ samples from the distribution with the `rvs()` function."
   ]
  },
  {
   "cell_type": "code",
   "execution_count": 25,
   "metadata": {},
   "outputs": [
    {
     "name": "stdout",
     "output_type": "stream",
     "text": [
      "[ 3.532  2.938  5.114  3.104  5.776  3.19  -1.491\n",
      "  4.938  1.16   4.501  1.997  2.38   4.186  6.011\n",
      "  1.8  ]\n"
     ]
    }
   ],
   "source": [
    "np.set_printoptions(precision=3, linewidth=50)\n",
    "print(n23.rvs(size=15))"
   ]
  },
  {
   "cell_type": "markdown",
   "metadata": {},
   "source": [
    "We can get the [*cumulative distribution function (CDF)*](https://en.wikipedia.org/wiki/Cumulative_distribution_function), which is the probability that a randomly drawn value from the distribution is less than or equal to $x$."
   ]
  },
  {
   "cell_type": "code",
   "execution_count": 26,
   "metadata": {},
   "outputs": [
    {
     "name": "stdout",
     "output_type": "stream",
     "text": [
      "0.5\n"
     ]
    }
   ],
   "source": [
    "# probability that a random value is less than the mean 2\n",
    "print(n23.cdf(2))"
   ]
  },
  {
   "cell_type": "markdown",
   "metadata": {},
   "source": [
    "We can get various properties of the distribution:"
   ]
  },
  {
   "cell_type": "code",
   "execution_count": 27,
   "metadata": {},
   "outputs": [
    {
     "name": "stdout",
     "output_type": "stream",
     "text": [
      "variance is 9.0\n",
      "standard deviation is 3.0\n",
      "mean is 2.0\n"
     ]
    }
   ],
   "source": [
    "print('variance is', n23.var())\n",
    "print('standard deviation is', n23.std())\n",
    "print('mean is', n23.mean())"
   ]
  },
  {
   "cell_type": "markdown",
   "metadata": {},
   "source": [
    "## Limitations of Using Gaussians to Model the World\n",
    "\n",
    "Earlier I mentioned the *central limit theorem*, which states that under certain conditions the arithmetic sum of any independent random variable will be normally distributed, regardless of how the random variables are distributed. This is important to us because nature is full of distributions which are not normal, but when we apply the central limit theorem over large populations we end up with normal distributions. \n",
    "\n",
    "However, a key part of the proof is “under certain conditions”. These conditions often do not hold for the physical world. For example, a kitchen scale cannot read below zero, but if we represent the measurement error as a Gaussian the left side of the curve extends to negative infinity, implying a very small chance of giving a negative reading. \n",
    "\n",
    "This is a broad topic which I will not treat exhaustively. \n",
    "\n",
    "Let's consider a trivial example. We think of things like test scores as being normally distributed. If you have ever had a professor “grade on a curve” you have been subject to this assumption. But of course test scores cannot follow a normal distribution. This is because the distribution assigns a nonzero probability distribution for *any* value, no matter how far from the mean. So, for example, say your mean is 90 and the standard deviation is 13. The normal distribution assumes that there is a large chance of somebody getting a 90, and a small chance of somebody getting a 40. However, it also implies that there is a tiny chance of somebody getting a grade of -10, or 150. It assigns an extremely small chance of getting a score of $-10^{300}$ or $10^{32986}$. The tails of a Gaussian distribution are infinitely long.\n",
    "\n",
    "But for a test we know this is not true. Ignoring extra credit, you cannot get less than 0, or more than 100. Let's plot this range of values using a normal distribution to see how poorly this represents real test scores distributions."
   ]
  },
  {
   "cell_type": "code",
   "execution_count": 28,
   "metadata": {},
   "outputs": [
    {
     "data": {
      "image/png": "[encoded data removed]",
      "text/plain": [
       "<Figure size 576x216 with 1 Axes>"
      ]
     },
     "metadata": {},
     "output_type": "display_data"
    }
   ],
   "source": [
    "xs = np.arange(10, 100, 0.05)\n",
    "ys = [gaussian(x, 90, 30) for x in xs]\n",
    "plt.plot(xs, ys, label='var=0.2')\n",
    "plt.xlim(0, 120)\n",
    "plt.ylim(-0.02, 0.09);"
   ]
  },
  {
   "cell_type": "markdown",
   "metadata": {},
   "source": [
    "The area under the curve cannot equal 1, so it is not a probability distribution. What actually happens is that more students than predicted by a normal distribution get scores nearer the upper end of the range (for example), and that tail becomes “fat”. Also, the test is probably not able to perfectly distinguish minute differences in skill in the students, so the distribution to the left of the mean is also probably a bit bunched up in places. \n",
    "\n",
    "Sensors measure the world. The errors in a sensor's measurements are rarely truly Gaussian. It is far too early to be talking about the difficulties that this presents to the Kalman filter designer. It is worth keeping in the back of your mind the fact that the Kalman filter math is based on an idealized model of the world.  For now I will present a bit of code that I will be using later in the book to form distributions to simulate various processes and sensors. This distribution is called the [*Student's $t$-distribution*](https://en.wikipedia.org/wiki/Student%27s_t-distribution). \n",
    "\n",
    "Let's say I want to model a sensor that has some white noise in the output. For simplicity, let's say the signal is a constant 10, and the standard deviation of the noise is 2. We can use the function `numpy.random.randn()` to get a random number with a mean of 0 and a standard deviation of 1. I can simulate this with:"
   ]
  },
  {
   "cell_type": "code",
   "execution_count": 29,
   "metadata": {},
   "outputs": [],
   "source": [
    "from numpy.random import randn\n",
    "def sense():\n",
    "    return 10 + randn()*2"
   ]
  },
  {
   "cell_type": "markdown",
   "metadata": {},
   "source": [
    "Let's plot that signal and see what it looks like."
   ]
  },
  {
   "cell_type": "code",
   "execution_count": 30,
   "metadata": {},
   "outputs": [
    {
     "data": {
      "image/png": "[encoded data removed]",
      "text/plain": [
       "<Figure size 576x216 with 1 Axes>"
      ]
     },
     "metadata": {},
     "output_type": "display_data"
    }
   ],
   "source": [
    "zs = [sense() for i in range(5000)]\n",
    "plt.plot(zs, lw=1);"
   ]
  },
  {
   "cell_type": "markdown",
   "metadata": {},
   "source": [
    "That looks like I would expect. The signal is centered around 10. A standard deviation of 2 means that 68% of the measurements will be within $\\pm$ 2 of 10, and 99% will be within $\\pm$ 6 of 10, and that looks like what is happening. \n",
    "\n",
    "Now let's look at distribution generated with the Student's $t$-distribution. I will not go into the math, but just give you the source code for it and then plot a distribution using it."
   ]
  },
  {
   "cell_type": "code",
   "execution_count": 31,
   "metadata": {},
   "outputs": [],
   "source": [
    "import random\n",
    "import math\n",
    "\n",
    "def rand_student_t(df, mu=0, std=1):\n",
    "    \"\"\"return random number distributed by Student's t \n",
    "    distribution with `df` degrees of freedom with the \n",
    "    specified mean and standard deviation.\n",
    "    \"\"\"\n",
    "    x = random.gauss(0, std)\n",
    "    y = 2.0*random.gammavariate(0.5*df, 2.0)\n",
    "    return x / (math.sqrt(y / df)) + mu"
   ]
  },
  {
   "cell_type": "code",
   "execution_count": 32,
   "metadata": {},
   "outputs": [
    {
     "data": {
      "image/png": "[encoded data removed]",
      "text/plain": [
       "<Figure size 576x216 with 1 Axes>"
      ]
     },
     "metadata": {},
     "output_type": "display_data"
    }
   ],
   "source": [
    "def sense_t():\n",
    "    return 10 + rand_student_t(7)*2\n",
    "\n",
    "zs = [sense_t() for i in range(5000)]\n",
    "plt.plot(zs, lw=1);"
   ]
  },
  {
   "cell_type": "markdown",
   "metadata": {},
   "source": [
    "We can see from the plot that while the output is similar to the normal distribution there are outliers that go far more than 3 standard deviations from the mean (7 to 13). \n",
    "\n",
    "It is unlikely that the Student's $t$-distribution is an accurate model of how your sensor (say, a GPS or Doppler) performs, and this is not a book on how to model physical systems. However, it does produce reasonable data to test your filter's performance when presented with real world noise. We will be using distributions like these throughout the rest of the book in our simulations and tests. \n",
    "\n",
    "This is not an idle concern. The Kalman filter equations assume the noise is normally distributed, and perform sub-optimally if this is not true. Designers for mission critical filters, such as the filters on spacecraft, need to master a lot of theory and empirical knowledge about the performance of the sensors on their spacecraft. For example, a presentation I saw on a NASA mission stated that while theory states that they should use 3 standard deviations to distinguish noise from valid measurements in practice they had to use 5 to 6 standard deviations. This was something they determined by experiments.\n",
    "\n",
    "The code for rand_student_t is included in `filterpy.stats`. You may use it with\n",
    "\n",
    "```python\n",
    "from filterpy.stats import rand_student_t\n",
    "```\n",
    "\n",
    "While I'll not cover it here, statistics has defined ways of describing the shape of a probability distribution by how it varies from an exponential distribution. The normal distribution is shaped symmetrically around the mean - like a bell curve. However, a probability distribution can be asymmetrical around the mean. The measure of this is called [*skew*](https://en.wikipedia.org/wiki/Skewness). The tails can be shortened, fatter, thinner, or otherwise shaped differently from an exponential distribution. The measure of this is called [*kurtosis*](https://en.wikipedia.org/wiki/Kurtosis). the `scipy.stats` module contains the function `describe` which computes these statistics, among others."
   ]
  },
  {
   "cell_type": "code",
   "execution_count": 33,
   "metadata": {},
   "outputs": [
    {
     "data": {
      "text/plain": [
       "DescribeResult(nobs=5000, minmax=(-0.3759394593501959, 21.349502007521362), mean=10.002526325264105, variance=2.8118142566927693, skewness=-0.05493420847181719, kurtosis=2.305266649637539)"
      ]
     },
     "execution_count": 33,
     "metadata": {},
     "output_type": "execute_result"
    }
   ],
   "source": [
    "import scipy\n",
    "scipy.stats.describe(zs)"
   ]
  },
  {
   "cell_type": "markdown",
   "metadata": {},
   "source": [
    "Let's examine two normal populations, one small, one large:"
   ]
  },
  {
   "cell_type": "code",
   "execution_count": 34,
   "metadata": {},
   "outputs": [
    {
     "name": "stdout",
     "output_type": "stream",
     "text": [
      "DescribeResult(nobs=10, minmax=(-2.2922970571743235, 2.07937157289957), mean=-0.39398879831470823, variance=1.6367898886878445, skewness=0.4089745645544576, kurtosis=-0.44193847413985043)\n",
      "\n",
      "DescribeResult(nobs=300000, minmax=(-4.8659578698172155, 4.692624465524303), mean=0.00014668102226286805, variance=1.001370952607716, skewness=0.0011541152522754141, kurtosis=-0.0006976512418868097)\n"
     ]
    }
   ],
   "source": [
    "print(scipy.stats.describe(np.random.randn(10)))\n",
    "print()\n",
    "print(scipy.stats.describe(np.random.randn(300000)))"
   ]
  },
  {
   "cell_type": "markdown",
   "metadata": {},
   "source": [
    "The small sample has very non-zero skew and kurtosis because the small number of samples is not well distributed around the mean of 0. You can see this also by comparing the computed mean and variance with the theoretical mean of 0 and variance 1. In comparison the large sample's mean and variance are very close to the theoretical values, and both the skew and kurtosis are near zero."
   ]
  },
  {
   "cell_type": "markdown",
   "metadata": {},
   "source": [
    "## Summary and Key Points\n",
    "\n",
    "This chapter is a poor introduction to statistics in general. I've only covered the concepts that  needed to use Gaussians in the remainder of the book, no more. What I've covered will not get you very far if you intend to read the Kalman filter literature. If this is a new topic to you I suggest reading a statistics textbook. I've always liked the Schaum series for self study, and Alan Downey's *Think Stats* [5] is also very good and freely available online. \n",
    "\n",
    "The following points **must** be understood by you before we continue:\n",
    "\n",
    "* Normals express a continuous probability distribution\n",
    "* They are completely described by two parameters: the mean ($\\mu$) and variance ($\\sigma^2$)\n",
    "* $\\mu$ is the average of all possible values\n",
    "* The variance $\\sigma^2$ represents how much our measurements vary from the mean\n",
    "* The standard deviation ($\\sigma$) is the square root of the variance ($\\sigma^2$)\n",
    "* Many things in nature approximate a normal distribution, but the math is not perfect.\n",
    "\n",
    "The next several chapters will be using Gaussians to help perform filtering. As noted in the last section, sometimes Gaussians do not describe the world very well. Latter parts of the book are dedicated to filters which work even when the noise or system's behavior is very non-Gaussian. "
   ]
  },
  {
   "cell_type": "markdown",
   "metadata": {},
   "source": [
    "## References"
   ]
  },
  {
   "cell_type": "markdown",
   "metadata": {},
   "source": [
    "[1] https://github.com/rlabbe/Kalman-and-Bayesian-Filters-in-Python/blob/master/Supporting_Notebooks/Computing_and_plotting_PDFs.ipynb\n",
    "\n",
    "[2] http://docs.scipy.org/doc/scipy/reference/generated/scipy.stats.norm.html\n",
    "\n",
    "[3] http://docs.scipy.org/doc/scipy/reference/tutorial/stats.html\n",
    "\n",
    "[4] Huber, Peter J. *Robust Statistical Procedures*, Second Edition. Society for Industrial and Applied Mathematics, 1996.\n",
    "\n",
    "[5] Downey, Alan. *Think Stats*, Second Edition. O'Reilly Media.\n",
    "\n",
    "https://github.com/AllenDowney/ThinkStats2\n",
    "\n",
    "http://greenteapress.com/thinkstats/"
   ]
  },
  {
   "cell_type": "markdown",
   "metadata": {},
   "source": [
    "## Useful Wikipedia Links\n",
    "\n",
    "https://en.wikipedia.org/wiki/Probability_distribution\n",
    "\n",
    "https://en.wikipedia.org/wiki/Random_variable\n",
    "\n",
    "https://en.wikipedia.org/wiki/Sample_space\n",
    "\n",
    "https://en.wikipedia.org/wiki/Central_tendency\n",
    "\n",
    "https://en.wikipedia.org/wiki/Expected_value\n",
    "\n",
    "https://en.wikipedia.org/wiki/Standard_deviation\n",
    "\n",
    "https://en.wikipedia.org/wiki/Variance\n",
    "\n",
    "https://en.wikipedia.org/wiki/Probability_density_function\n",
    "\n",
    "https://en.wikipedia.org/wiki/Central_limit_theorem\n",
    "\n",
    "https://en.wikipedia.org/wiki/68%E2%80%9395%E2%80%9399.7_rule\n",
    "\n",
    "https://en.wikipedia.org/wiki/Cumulative_distribution_function\n",
    "\n",
    "https://en.wikipedia.org/wiki/Skewness\n",
    "\n",
    "https://en.wikipedia.org/wiki/Kurtosis"
   ]
  }
 ],
 "metadata": {
  "anaconda-cloud": {},
  "kernelspec": {
   "display_name": "Python 3",
   "language": "python",
   "name": "python3"
  },
  "language_info": {
   "codemirror_mode": {
    "name": "ipython",
    "version": 3
   },
   "file_extension": ".py",
   "mimetype": "text/x-python",
   "name": "python",
   "nbconvert_exporter": "python",
   "pygments_lexer": "ipython3",
   "version": "3.6.5"
  },
  "widgets": {
   "application/vnd.jupyter.widget-state+json": {
    "state": {
     "3046dfeaf42e4e42a4515c0a1d124af4": {
      "model_module": "@jupyter-widgets/base",
      "model_module_version": "1.0.0",
      "model_name": "LayoutModel",
      "state": {}
     },
     "375ef8db345347d5ac2cf25a0d1725d9": {
      "model_module": "@jupyter-widgets/output",
      "model_module_version": "1.0.0",
      "model_name": "OutputModel",
      "state": {
       "layout": "IPY_MODEL_f57e44c73c214d6782939f94442f4bef",
       "outputs": [
        {
         "data": {
          "image/png": "iVBORw0KGgoAAAANSUhEUgAAAusAAAEgCAYAAAANPj3XAAAABHNCSVQICAgIfAhkiAAAAAlwSFlz\nAAAPYQAAD2EBqD+naQAAADl0RVh0U29mdHdhcmUAbWF0cGxvdGxpYiB2ZXJzaW9uIDIuMS4wLCBo\ndHRwOi8vbWF0cGxvdGxpYi5vcmcvpW3flQAAIABJREFUeJzs3XlclNX+B/DPDDPs+yoDCioqsrsi\nZrmlpWZukWuZYq6Zeu9Pu6nXtE1avIU3TVITuiqWW2Wppea+4E6AOyggoOz7OjPP7w+UREEdQ55n\n4PN+vXhBZ55n5jsdmfnM4TznyARBEEBERERERJIjF7sAIiIiIiKqHcM6EREREZFEMawTEREREUkU\nwzoRERERkUQxrBMRERERSRTDOhERERGRRDGsExERERFJFMM6EREREZFEMawTEREREUmUzmG9sLAQ\n8+bNQ//+/eHg4ACZTIbFixc/9vkZGRl44403YG9vD1NTUwQFBWHfvn26lkFERERE1OjpHNazs7Px\nzTffoLy8HEOHDtXp3PLycvTt2xf79u1DWFgYfvrpJzg5OeHFF1/EwYMHdS2FiIiIiKhRU+h6gpub\nG3JzcyGTyZCVlYU1a9Y89rlr165FXFwcjh07hqCgIABA79694e/vj3nz5iE6Orr6WK1WC61WW+N8\nmUwGmUyma8lERERERKITBAGCINRok8vlkMvrHj/XOaz/nbC8fft2tGvXrjqoA4BCocC4ceMwf/58\npKamwsXFBUBVWC8uLn7ixyIiIiIikjozM7OHhvUGvcA0Li4Ofn5+D7TfbYuPj2/IcoiIiIiIJK1B\nw3p2djZsbW0faL/blp2d3ZDlEBERERFJWoMv3fiwaTScj05ERERE9Bed56z/HXZ2drWOnufk5ABA\njVH32oL7o+b0PA3x8fFQq9VQKBTw9vZu0Mcm3bCv9Af7Sr+wv/QH+0p/sK/0R332VW3XZD5qsLpB\nw7qvry9iY2MfaL/b5uPjU91WW+GPulr2adBqtdBoNKI8NumGfaU/2Ff6hf2lP9hX+oN9pT+edl89\nKqw36L+OYcOG4dKlSzWWaFSr1Vi/fj0CAwOhUqkashwiIiIiIkl7opH1Xbt2obi4GIWFhQCACxcu\nYMuWLQCAgQMHwtTUFCEhIYiMjERCQgLc3NwAABMnTsSKFSsQHByM0NBQODo6YuXKlbh8+TL27t1b\nT0+JiIiIiKhxeKKwPm3aNCQlJVX/9+bNm7F582YAwPXr1+Hu7g6NRgONRlNj4XcjIyPs27cP8+bN\nw8yZM1FSUoKAgADs2rULPXv2/JtPhYiIiIiocXmisH7jxo1HHhMREYGIiIgH2p2cnBAZGfkkD0tE\nRERE1KTwigYiIiIiIoliWCciIiIikiiGdSIiIiIiiWJYJyIiIiKSKIZ1IiIiIiKJYlgnIiIiIpIo\nhnUiIiIiIoliWCciIiIikiiGdSIiIiIiiWJYJyIiIiKSKIZ1IiIiIiKJYlgnIiIiIpIohnUiIiIi\nIoliWCciIiIikiiGdSIiIiIiiWJYJyIiIiKSKIZ1IiIiIiKJYlgnIiIiIpIohnUiIiIiIoliWCci\nIiIikiiGdSIiIiIiiWJYJyIiIiKSKIZ1IiIiIiKJYlgnIiIiIpIohnUiIiIiIoliWCciIiIikiiG\ndSIiIiIiiWJYJyIiIiKSKIZ1IiIiIiKJYlgnIiIiIpIohnUiIiIiIoliWCciIiIikiiGdSIiIiIi\niWJYJyIiIiKSKIZ1IiIiIiKJYlgnIiIiIpIoncN6UVERZs+eDZVKBWNjYwQEBGDTpk2Pde7+/fvR\nr18/ODo6wtzcHH5+fli+fDk0Go3OhRMRERERNXYKXU8YPnw4Tp06hdDQULRt2xYbN27E6NGjodVq\nMWbMmDrP27t3L1544QU899xzWL16NczMzPDzzz9j1qxZSEhIQFhY2N96IkREREREjY1OYX3nzp3Y\ns2dPdUAHgN69eyMpKQlz587FyJEjYWBgUOu5ERERUCqV+OWXX2BmZgYAeP7553H58mVEREQwrBMR\nERER3UenaTDbt2+Hubk5goODa7RPmDABaWlpiI6OrvNcpVIJQ0NDmJiY1Gi3traGsbGxLmUQERER\nETUJMkEQhMc9OCgoCBqNBidPnqzRHh8fDx8fH4SHh2Py5Mm1nhsdHY2ePXti0qRJmD9/PkxNTbFj\nxw6EhIRg6dKl+Oc//1njeK1Wi8LCwhptycnJ0Gq1j1tuvaisrKz+WalUNuhjk27YV/qDfaVf2F/6\ng32lP9hX+qM++0oul6NFixY12iwsLCCX1z1+rtM0mOzsbLRq1eqBdltb2+rb6xIYGIg//vgDwcHB\nWLFiBQDAwMCg1qBeF7VaLerFqPd2Fkkb+0p/sK/0C/tLf7Cv9Af7Sn/83b6qa7r4w+h8galMJnui\n286cOYNhw4YhMDAQ4eHhMDMzwx9//IGFCxeirKwM//73vx9drELx0E8eTwM/+eoP9pX+YF/pF/aX\n/mBf6Q/2lf6o75F1XekU1u3s7GodPc/JyQHw1wh7bWbMmAEnJyds3769+lNF7969IZfLsXjxYowd\nO7bWUft7eXt7N3hYj4mJQWVlJZRKJfz9/Rv0sUk37Cv9wb7SL+wv/cG+0h/sK/1Rn31V2zTvR9Ep\n+fr6+uLixYtQq9U12mNjYwEAPj4+dZ57/vx5dOrU6YHh/y5dukCr1eLixYu6lEJERERE1OjpFNaH\nDRuGoqIibN26tUZ7ZGQkVCoVAgMD6zxXpVLh9OnTD8w5P378OADA1dVVl1KIiIiIiBo9nabBDBgw\nAP369cO0adNQUFAADw8PREVFYffu3Vi/fn31qHlISAgiIyORkJAANzc3AMCcOXPw9ttvY/DgwZgy\nZQpMTU2xb98+LFu2DM8//zz/BEREREREdB+dLzDdtm0bFixYgEWLFiEnJweenp6IiorCqFGjqo/R\naDTQaDS4d1XImTNnwsXFBV988QUmTZqE0tJSuLu747333sOcOXPq59kQERERETUiOod1c3NzhIWF\nPXTH0YiICERERDzQPnz4cAwfPlzXhyQiIiIiapIadmkVIiIiIiJ6bAzrREREREQSxbBORERERCRR\nDOtERERERBLFsE5EREREJFEM60REREREEsWwTkREREQkUQzrREREREQSxbBORERERCRRDOtERERE\nRBLFsE5EREREJFEM60REREREEsWwTkREREQkUQzrREREREQSxbBORERERCRRDOtERERERBLFsE5E\nREREJFEM60REREREEsWwTkREREQkUQzrREREREQSxbBORERERCRRDOtERERERBLFsE5EREREJFEM\n60REREREEsWwTkREREQkUQzrREREREQSxbBORERERCRRDOtERERERBLFsE5EREREJFEM60RERERE\nEsWwTkREREQkUQzrREREREQSxbBORERERCRRDOtERERERBLFsE5EREREJFE6h/WioiLMnj0bKpUK\nxsbGCAgIwKZNmx77/J9++gk9e/aEpaUlzMzM4O3tjW+++UbXMoiIiIiIGj2FricMHz4cp06dQmho\nKNq2bYuNGzdi9OjR0Gq1GDNmzEPPDQ0NxYIFCzB16lS8++67UCqVuHTpEioqKp74CRARERERNVY6\nhfWdO3diz5491QEdAHr37o2kpCTMnTsXI0eOhIGBQa3nnjlzBgsWLMDSpUsxb9686va+ffv+jfKJ\niIiIiBovnabBbN++Hebm5ggODq7RPmHCBKSlpSE6OrrOc7/66isYGRlh5syZT1YpEREREVETIxME\nQXjcg4OCgqDRaHDy5Mka7fHx8fDx8UF4eDgmT55c67mtW7eGtbU15syZgw8++ADXrl2Ds7Mzxo0b\nh/fffx+GhoY1jtdqtSgsLKzRlpycDK1W+7jl1ovKysrqn5VKZYM+NumGfaU/2Ff6hf2lP9hX+oN9\npT/qs6/kcjlatGhRo83CwgJyed3j5zpNg8nOzkarVq0eaLe1ta2+vS6pqanIzMzE22+/jQ8++ABe\nXl7Yt28fQkNDkZKSgg0bNjzy8dVqNTQajS4l16t7O4ukjX2lP9hX+oX9pT/YV/qDfaU//m5f1TVd\n/GF0vsBUJpM90W13R8qjoqIwatQoAFXz3YuLi/Hll19iyZIl8PDweHixCsVDP3k8Dfzkqz/YV/qD\nfaVf2F/6g32lP9hX+qO+R9Z1pVNYt7Ozq3X0PCcnB8BfI+x1nXvr1i288MILNdoHDBiAL7/8EmfP\nnn1kWPf29m7wsB4TE4PKykoolUr4+/s36GOTbthX+oN9pV/YX/qDfaU/2Ff6oz77qrZp3o+iU/L1\n9fXFxYsXoVara7THxsYCAHx8fOo818/Pr9b2u1PmGzqEExERERFJnU4JediwYSgqKsLWrVtrtEdG\nRkKlUiEwMLDOc0eMGAEA2LVrV432nTt3Qi6Xo0uXLrqUQkRERETU6Ok0DWbAgAHo168fpk2bhoKC\nAnh4eCAqKgq7d+/G+vXrqyfNh4SEIDIyEgkJCXBzcwNQtbxjeHg4pk+fjqysLHh5eWHv3r1YsWIF\npk+fXn0cERERERFV0fkC023btmHBggVYtGgRcnJy4OnpWeOiUQDQaDTQaDS4d1VIpVKJPXv2YP78\n+fj444+Rk5ODli1bIjQ0FP/4xz/q59kQERERETUiOod1c3NzhIWFISwsrM5jIiIiEBER8UC7ra0t\nVq1ahVWrVun6sERERERETQ6v6iQiIiIikiiGdSIiIiIiiWJYJyIiIiKSKIZ1IiIiIiKJYlgnIiIi\nIpIohnUiIiIiIoliWCciIiIikiiGdSIiIiIiiWJYJyIiIiKSKIZ1IiIiIiKJYlgnIiIiIpIohdgF\nEBGRtJWrBUAQxC6DiKhJYlgnImqCBEFAXkklMgrLkVlYjozCMmQUliOj4K+fswrLkVFYjqJyNQxk\ngLWxAVSHCuFoYQRHSyM4WBhX/WxhBAcLIzhaGsPB3AiGCv7RloiovjCsExE1EbnFFTh0NRMHL2fi\n4JVMZBdXPPa5GgHILtUgOzX/occZyGXo2MIavdo5omdbB3irLCGTyf5u6URETRbDOhFRI6XVCohN\nzceBy5k4cCUDMSl50N43m8XaVHlndLxqlNzB0ggO5lWj5HdHzW/duIrCsgoUVsph3azFg6Px1aPw\nZajUCDh1IxenbuTis98uw9HCCD3bOqBXO0f0aGMPKxOlOP8ziIj0FMM6EVEjcnf0/MDlTByqZfTc\ns5kFerZzQK+2jujQwhrGSoNH3mdhmhyGMgM0s1TC38upzuMEQcDN3FIcvFL1+EevZSGjsBybz9zE\n5jM3OepORPQEGNaJiPScIAg4eT0H4YcSceByRo3Rc3MjBZ7xsEOvdo7o1c4BzlYmT60OmUyG5ram\nGNfNDeO6uaFcrcGp67k4cDkDB65k4lpGUY1RdxdrE0x4xh2juraAuRHfjoiIasNXRyIiPaXRCthz\n4RZWHUzE+ZS86vZ2Thbo5Vk1et7JzUa0Cz6NFAbo0cYePdrYYyGAlJwSHLiSiYOXM3D0WjZS80rx\n4a8XEbbvKl7r5oY3nnGHo4WxKLUSEUkVwzoRkZ4pq9Rg69mbWHP4Oq5nFQMADBVyvNLJFZN6tEQr\nB3ORK6xdc1tTvNbNDa91c0NZpQY/nU9F+KFEJGYWY+WBBKw5fB3DO7rgzedaobVEnwMRUUNjWCci\n0hN5JRVYfyIJEcduIKuoai66lYkSrwe54fUgdzhYGIlc4eMzVhpgZJcWCO7UHHsv3saqgwk4m5yH\nTadS8P3pFPRr74QpPVujk5uN2KUSEYmKYZ2ISOJS80qx9vB1bDqVjJIKDQDAxdoEIT1aYmSX5jDT\n4/necrkM/b2bob93M5y+kYNVBxOx9+Jt/H6h6quLuw2mPNcafTwdIZfzYlQianr09xWeiKiRKypX\n48s9VxBx7AbUd64a9Wxmgak9W2OQnzOUBo1r86HO7rZY426LaxmF+OZQIrafS71zQeppeDlb4sNh\nPujYgiPtRNS0MKwTEUmMIAjYFXcL7++4gFsFZQCAoFZ2mNqrNZ5rY9/olzv0cLTAp6/445/922Hd\n0RvYcCIJF9ILMOLrYxjVpQXeebEdrE0NxS6TiKhBMKwTEUlIUnYxFv0Uj4NXMgEALWxN8f4Qb/Rq\n5yhyZQ3PydIY/xrgiTefbYmPd17C1rM3EXUyGb/H38K7A9tjREeXRv/BhYiIYZ2ISALK1RqEH0zE\niv3XUK7WwtBAjqk9W2F6b4/H2rioMbMzN8KyV/3xamdXLPwxDlczivB/m2Pww+kUfDjUB22dLMQu\nkYjoqWFYJyIS2dFrWfj3j3FIvLMM4zMednh/iA+XL7xPYCs77Jz1LNYeuY6wvVdx8noOBoYdxqRn\nW+Htvh4wNeRbGhE1PnxlIyISSUZhGT785SJ+jkkDADhYGGHhoPZ42V/F6R11UBrIMbVna7zk54zF\nP1+oXvZxR0waFr/sjX5eTmKXSERUrxjWiYgamFYrYH10Ej7bfRmF5WrIZMDr3dzwzxfawdJYKXZ5\nesHVxhRrxnfGngu3sfjneKTmleLN707j+fZOeH+IN1TWJmKXSERULxjWiYgaUHZROf65OQYHLldd\nQOrrYoWPhvnAz9Va5Mr0Uz8vJzzjYYfl+65hzeGqNdpP3cjB58H+HGUnokahcS3SS0QkYccTsjFw\n+WEcuJwJQ4Uc7w32wo8znmFQ/5tMDRX41wBP7Jr1LPxcrZBfWok3vzuNxT/Ho1ytEbs8IqK/hWGd\niOgp02gFfLHnCsauOYHbBeVo7WCGn2Y8gwnPtIQBd+WsN22cLLBlaneE9GgJAIg4dgMjvj6GG3cu\n3CUi0kcM60RET9Gt/DKMWX0CYfuuQisAr3RyxY6ZPdDe2VLs0holQ4Uc/37JC2vHd4aNqRJxqQV4\n6b9H8NP5VLFLIyJ6IgzrRERPyf5LGRi4/DCir+fAzNAAX4z0x+fB/lxisAH0be+EnbOeRdeWtigq\nV2PWpvOYtyUGJRVqsUsjItIJwzoRUT2rUGvx0a8XMCHiFHKKK+CtssSOmT0wrIOr2KU1Kc5WJtg4\nKRBv920DmQz44fRNvPzVUVy+VSh2aUREj41hnYioHiVnlyA4/DhWH74OAHijuzu2Te+OVtzgSBQK\nAzn+0a8tNkwKhKOFEa5lFOHlr45gY3QyBEEQuzwiokdiWCciqie7YtMxaPlhxKTkwdJYgfDXOmHx\ny94wUhiIXVqT1721PXbOehY92zqgXK3F/O2xeCvqHIrKOS2GiKRN57BeVFSE2bNnQ6VSwdjYGAEB\nAdi0aZPOD7xw4ULIZDL4+PjofC4RkZRotQL+s+cKpm04i8JyNTq52WDnrGfxgnczsUuje9ibG2Hd\nG13w7gBPKOQy/PpnOkasPIaUnBKxSyMiqpPOYX348OGIjIzEe++9h127dqFLly4YPXo0Nm7c+Nj3\ncf78eXz++edwcuKGFUSk30oq1Jix8SyW77sKAJjUoyU2Te4GVxtTkSuj2sjlMkzp2RrfTwmCg4UR\nLt8uxJAVR3Hyeo7YpRER1UqnsL5z507s2bMHK1euxJQpU9C7d2+sXr0a/fr1w9y5c6HRPHrzCbVa\njQkTJmDKlCnw9PR84sKJiMSWlleK4FXHsSvuFpQGMnz6ih8WvuQFpQFnGEpdJzcb/PzWM/BxsURO\ncQXGrjmBH06liF0WEdEDdHpH2b59O8zNzREcHFyjfcKECUhLS0N0dPQj7yM0NBQ5OTn46KOPdKuU\niEhCziXn4uWvjiI+rQB2ZoaIerMbXu3cXOyySAfOVibYPKU7Bvk6o1IjYN7WP/HhLxeg0fLCUyKS\nDpmgw+XwQUFB0Gg0OHnyZI32+Ph4+Pj4IDw8HJMnT67z/AsXLqBjx47Ytm0bBg4ciF69eiErKwtx\ncXEPHKvValFYWHN5reTkZGi12sctt15UVlZW/6xUKhv0sUk37Cv9oe99deB6Mb46mYtKLeBmpcSC\n5+zgZN54107X9/56FEEQ8H1cIaLiCgAAHZ2N8H/d7WBmqH9/IWnsfdWYsK/0R332lVwuR4sWLWq0\nWVhYQC6v+/VGp3eX7OxstGrV6oF2W1vb6tvrotVqMXHiRAwfPhwDBw7U5WGrqdXqx5pq87Tc21kk\nbewr/aFPfaUVBETFFWH75aoLEruojPB2V0uYKAS9eh5/R2N9niM8TeBsLsNXp/JxNr0c836/jXee\nsYazHn8Ia6x91Rixr/TH3+0rAwPdVwfT+VVIJpM90W3/+c9/cPXqVfz888+6PmQ1hULx0E8eTwM/\n+eoP9pX+0Me+KqnU4ssTOYhOLQMAvOJlgbF+lpA/5HWvsdDH/noSPVsq4WJlhI8PZeNmoQbz/8jF\nvB628HMyFru0x9ZU+qoxYF/pj/oeWdeVTmHdzs6u1tHznJyqq+jvjrDfLzk5GYsWLUJoaCgMDQ2R\nl5cHoGqkXKvVIi8vD0ZGRjAxMXno43t7ezd4WI+JiUFlZSWUSiX8/f0b9LFJN+wr/aFvfXUztwTv\nRJ7GpVtlMFTI8ekIPwzt4CJ2WQ1G3/rr7/AH8GynMrz53WnE3MzHkgPZWDLEG2MD3cQu7bE0pb7S\nd+wr/VGffVXbNO9H0Sn5+vr64uLFi1Cra24iERsbCwB1rpmemJiI0tJSzJo1CzY2NtVfR48excWL\nF2FjY4N3331Xp8KJiBrCmaQcDPnqKC7dKoS9uRE2Te7WpIJ6U+RoaYzvpwRhSIAKaq2ABdvjsPjn\neF54SkSi0GlkfdiwYVi9ejW2bt2KkSNHVrdHRkZCpVIhMDCw1vMCAgKwf//+B9pnz56N/Px8rFu3\nDq6urjqWTkT0dO2Ou4VZm86hXK2Ft8oSq1/vDJX1w/8CSI2DsdIAX44MQFsnC3z222VEHLuB1LxS\nLB/VASaG3JGWiBqOTmF9wIAB6NevH6ZNm4aCggJ4eHggKioKu3fvxvr166snzYeEhCAyMhIJCQlw\nc3ODtbU1evXq9cD9WVtbQ61W13obEZGYIo/dwOId8RAE4Pn2jlg+ugNMDfX3YkPSnUwmw4zeHmhl\nb4ZZ35/Hngu3MWbNCawd3wW2ZoZil0dETYTOE8C3bduG1157DYsWLcKLL76I6OhoREVFYezYsdXH\naDQaaDQa6LAqJBGRJGi1AkJ3XcJ7P1cF9TGBLbBqXCcG9SZsgK8zNkwKhJWJEueS8/DK18eQnF0i\ndllE1EToHNbNzc0RFhaG9PR0lJeXIyYmBqNGjapxTEREBARBgLu7+0Pv68CBA7WusU5EJIYKtRb/\n+OE8Vh1MAAD8X/+2+GioDxTckbTJ6+Jui63TguBibYLErGIM//ooYm/mi10WETUBfAciIgJQWFaJ\nCREn8eP5NCjkMnz2ih/e6tPmoUvSUtPi4WiBbdO7o72zJbKKKjDym+M4cDlD7LKIqJFjWCeiJu92\nQRmCVx3H0WvZMDU0wNo3uiC4c3OxyyIJcrI0xg9TuqGHhz1KKjQIiTyNzadTxC6LiBoxhnUiatKu\n3i7E8JXHqpdm/H5yEHq2dRC7LJIwC2Mlvn2jC4Z1cIFGK2Dulj/x331XeZ0WET0VDOtE1GSdvJ6D\nEV8fQ2peKVrZm2H79O7wdbUSuyzSA4YKOf7zqj+m9WoNAFi25wrmb4+DWqMVuTIiamwY1omoSdoZ\nm45xa6NRUKZGxxbW2DKtO5rbmopdFukRmUyGd170xPtDvCGTAVEnkzHlf2dQUqF+9MlERI+JYZ2I\nmpzvjt/AjI1nUaHWop+XEzZM6sZ1s+mJvR7kjq/HdoKRQo59lzIwZnU0cosrxC6LiBoJhnUiajIE\nQcB/fr+MRT9VraE+9s4a6tyRkv6uF32aYeObgbA2VeJ8Sh6Cw48jLa9U7LKIqBFgWCeiJkGjFTB/\nexyW/3ENADDn+bb4cKgPDORcmpHqRyc3W2yeEgRnK2NcyyjCiK+P4ertQrHLIiI9x7BORI1eWaUG\nMzacRdTJZMhkwIdDfTDrea6hTvWvjZMFtk7rjtYOZkjPL0Nw+HGcScoVuywi0mMM60TUqBWUVeKN\ndSexO/4WDA3kWDGmI8Z1cxO7LGrEVNYm2DK1OwKaWyOvpBJj15zAfm6eRERPiGGdiBqtzMJyjAo/\ngROJOTA3UiBiQhcM9HUWuyxqAmzMDLHxzUD0bOuAskot3ow8je3nbopdFhHpIYZ1ImqUkrNL8Mqq\nY7iQXgB7c0NsmtwN3T3sxS6LmhBTQwXWjO+MoQEqqLUC5nwfgzWHE8Uui4j0DMM6ETU68Wn5GP71\nMSRll6C5bdWUBB8XbnZEDU9pIMd/Xg1ASI+WAIAPf72IpbsucrdTInpsDOtE1KgcT8jGqPATyCoq\nR3tnS2yd2h3u9mZil0VNmFwuw8JB7fHOi54AgPCDiZi35U/udkpEj4VhnYgajd1xtzB+3UkUlqvR\ntaUtvp/SDY6WxmKXRQSZTIZpvVrj0xF+kMuAzWduYur6Myit0IhdGhFJHMM6ETUKG6KTMH3DGVSo\ntejv5YTvJnaFpbFS7LKIani1S3OsGle12+neixl4bW008kq42ykR1Y1hnYj0miAICNt7FQu2x0Er\nAKO6NMfKsR1hrOSupCRN/b2b4X8hgbAwVuB0Ui6CVx1Hej53OyWi2jGsE5He0mgFLPwxDl/svQIA\neLuPB5YO94XCgC9tJG1dW9pi89QgOFka4WpGEUasPIZrGdztlIgexHc0ItJLd3cl3RBdtSvpB0O8\n8Y/+7bgrKekNz2aW2DqtO1o5mCEtvwyvrOJup0T0IIZ1ItI7+aWVGP9tzV1JXwtyF7ssIp252pg+\nsNvpvou3xS6LiCSEYZ2I9MrtgjKMDD+O6Os5sDBSIGIidyUl/WZ7Z7fT3u2qdjud/L8z+OF0ithl\nEZFEMKwTkd5IzCzC8JXHcOlWIRwsjLBpSjd0b81dSUn/mRoq8M3rnTGioys0WgHztvyJlQeucfMk\nImJYJyL9cD4lD6+sOo7UvFK425li27Tu8FZxV1JqPJQGcnwe7IepPVsDAD7dfRlLdlyAVsvATtSU\nMawTkeQdvJKJMatPIKe4An6uVtgyrTua25qKXRZRvZPJZPjXAE/8+yUvAEDEsRuY9f15lKu5eRJR\nU8WwTkSStv3cTYREnEJJhQZR52O5AAAgAElEQVTPtrHHxje7wd7cSOyyiJ6qkB4tETYqAEoDGXbE\npGFixCkUllWKXRYRiYBhnYgkSRAE/HffVcz5PgZqrYAhASqsHd8F5kYKsUsjahBDAlywdnwXmBoa\n4Oi1bG6eRNREMawTkeRUarR4Z+ufWLanarOjyc+1whevBsBQwZcsalqea+uA7ycHwcHCCJduFWLo\niqOIT8sXuywiakB85yMiSSksq8TEiFP44fRNyO9sdjR/YHvI5dzsiJomX1crbJ/eHW0czXG7oByv\nrjqOg1cyxS6LiBoIwzoRSUZaXimCVx3H4atZMDU0wJrxnbnZERHubJ40rTuCWtmhuEKDiRGnsOlk\nsthlEVEDYFgnIkmIT8vHsJVHq9dQ/35yEPp4OoldFpFkWJkoETmxK4Z3cIFGK+Bf22Lx2W+XuLQj\nUSPHsE5EojtwOQOvrjqO2wXlaOtkju3Tu8PXlWuoE93PUCHHslf98XbfNgCAFfsTMJtLOxI1agzr\nRCSqjdHJCIk8jeIKDbq3tsPmqd3hasM11InqIpPJ8I9+bfHpK35QyGX4OSYNr609ibySCrFLI6Kn\ngGGdiEShFQR8dz4f87fHQqMVMLyjCyImdIWViVLs0oj0wqudmyNiQldYGClw8noOhn99DLeK1GKX\nRUT1jGGdiBpchUZA2Ml8bL1YCACY1bcNlgX7c2lGIh31aGOPzdOCoLIyRmJmMeb9noGrOdw8iagx\n4TsjETWojIIyLNyXiaMp5TCQAZ8H+2NOv7aQybg0I9GT8Gxmie0znoGXsyXyy7V470AODt4oEbss\nIqonOof1oqIizJ49GyqVCsbGxggICMCmTZseed62bdswevRoeHh4wMTEBO7u7hg7diyuXr36RIUT\nkf6JScnD4K+O4HJ2BcyUMrzXyx6vdHIVuywivedkaYwfpgahs8oYFVrgP8dzsHTXRWi4UgyR3tM5\nrA8fPhyRkZF47733sGvXLnTp0gWjR4/Gxo0bH3reJ598gpKSEixYsAC7d+/Ghx9+iHPnzqFjx46I\nj49/4idARPph+7mbCA6vWvHF1VKB0L628G9mLHZZRI2GuZEC85+1w7B2VRdohx9MREjkKeSXcloM\nkT5T6HLwzp07sWfPHmzcuBGjR48GAPTu3RtJSUmYO3cuRo4cCQMDg1rP3bFjBxwdHWu09enTB+7u\n7vjiiy+wZs2aJ3wKRCRlGq2AT3ZfwjeHEgEAz7d3RIi3AkpwqTmi+mYgl2GsrwVa2Rljxak8HLic\niWErj2L1653R2sFc7PKI6AnoNLK+fft2mJubIzg4uEb7hAkTkJaWhujo6DrPvT+oA4BKpYKrqytS\nUlJ0KYOI9ER+SSXeWHeyOqi/1dsD37zWGaZKXi5D9DQ952aKLVO7V194OvSro9h/KUPssojoCej0\njhkXF4f27dtDoag5IO/n51d9uy4SExORlJQEb29vnc4jIum7llGIISuO4PDVLJgoDfDVmA74vxfa\nQS7nhaREDcHHxQo/vdUDXdxtUFiuxsTIU1h1MAGCwHnsRPpEJujwW9u2bVu0atUKu3fvrtGenp4O\nlUqFjz/+GO++++5j3ZdarUa/fv1w9uxZxMXFoXnz5jVu12q1KCwsrNGWnJwMrVb7uOXWi8rKv+b6\nKZVc/1nK2FfScSq1FMuO5aBULcDB1ADzn7NDKxvD6tvZV/qF/aU/auurSo2A1Wfy8FtCMQDgOTcT\nvNXVBkZcKlVU/L3SH/XZV3K5HC1atKjRZmFhAbm87t9HneasA3jo8mqPu/SaIAgICQnB4cOHsXXr\n1geCel3UajU0GvHmud7bWSRt7CtxCIKAbZdKsCm+CAIAL3sl/hlkDSsjWZ19wr7SL+wv/XFvX73Z\nwRwtLOX49nwhDiWV4mZ+JeZ1t4a9ae3XmVHD4u+V/vi7fVXXtZ0Po1NYt7OzQ3Z29gPtOTk5AABb\nW9tH3ocgCJg0aRLWr1+PyMhIDBky5LEfX6FQPPSTx9PAT776g30lrtJKLb46lYsjyaUAgAEeZgjp\naA2lwYMf4tlX+oX9pT8e1lcveVrB3dYYnxzJRmKeGu/sy8E7Pezg7WjU0GUS+HulT+p7ZF1XOoV1\nX19fREVFQa1W15i3HhsbCwDw8fF56Pl3g/q6deuwdu1ajBs3Tqdivb29Gzysx8TEoLKyEkqlEv7+\n/g362KQb9pV4LqQVYE7UWSRmlkIhl2HJEG+MDXSr83j2lX5hf+mPR/WVP4DnOpVg8v/O4GJ6Af69\nPwv/6NcW03q25vUkDYy/V/qjPvuqtmnej6JT8h02bBiKioqwdevWGu2RkZFQqVQIDAys81xBEPDm\nm29i3bp1CA8Px4QJE3QqlIikRxAEbIhOwtCVR5GYWYxmlsaImtztoUGdiMTV3NYUW6cFYVgHF2i0\nAj777TLGrzuJzMJysUsjolroNLI+YMAA9OvXD9OmTUNBQQE8PDwQFRWF3bt3Y/369dXzcEJCQhAZ\nGYmEhAS4uVW9ab/99ttYu3YtJk6cCF9fX5w4caL6fo2MjNChQ4d6fFpE9LQVlFXi3W2x+PXPdABA\n73YOWPZqAGzNDB9xJhGJzdRQgf+86o+g1nZY9FMcDl/NwsDlhxE2MgDdPezFLo+I7qHzBabbtm3D\nggULsGjRIuTk5MDT0xNRUVEYNWpU9TEajQYajabG8lA7duwAAHz77bf49ttva9ynm5sbbty48YRP\ngYga2p838/DWxnNIzimBQi7DOy96IqRHS/4ZnUiPyGQyvNq5OTo0t8aMjWdx5XYRxq6Nxsw+bTCr\nbxsY8PeZSBJ0ngBubm6OsLAwpKeno7y8HDExMTWCOgBERERAEAS4u7tXt924cQOCINT6xaBOpB8E\nQcC3R65jxNfHkJxTAhdrE2yeGoQ3n2vFoE6kp9o4WeCnGT0wqktzCAKwfN9VjFl9Arfyy8QujYjw\nBGGdiJqmvJIKvPndGbz/ywVUagS84O2EnW8/iw4tbMQujYj+JhNDA4SO8EPYqACYGRog+noOBi4/\njAOXuespkdgY1onokc4k5WLQ8iPYe/E2DA3kWPKyN1aN6wQrUy43RtSYDAlwwS9vPwsvZ0vkFFfg\njXWnELrrEio1DbshIRH9hWGdiOqk0QpYeeAaXg0/jtS8UrjbmWLb9O4Y3939sTdBIyL90tLerOr3\nPKhqgYhVBxMwMvw4krNLRK6MqGliWCeiWl29XYjhXx/Dp7svQ6MVMNhfhR0ze8DHxUrs0ojoKTNW\nGmDJEB98PbYjLIwVOJuchxe+PIR1R69DqxUefQdEVG90Xg2GiBo3tUaL8EOJCNt7FRUaLSyMFfj3\nS14I7uTK0XSiJmaArzN8XKwwd0sMTiTmYMmOC9gZm45PX/FHS3szscsjahI4sk5E1S6mF2DoyqP4\n7LfLqNBo0cfTEXvm9MSrnZszqBM1Uc1tTbFxUjd8MNQHZoYGOHUjFy9+eQhrDidCw1F2oqeOYZ2I\nUKnRImzvVbz81RHEpRbA0liBZcH+WDu+M5pZGYtdHhGJTC6X4bVubtg9+zn08LBHuVqLD3+9iOBV\nx3Ato0js8ogaNYZ1oiYuLjUfL391FF/svYJKjYB+Xk7Y+4+eGMFpL0R0n+a2pvhfSFcsHe4Lc6Oq\nuewDlx/GqoMJUHPFGKKngnPWiZqoCrUWX/1xFSsPJECtFWBjqsTil73xsr+KIZ2I6iSTyTC6awv0\nbOuAd7fF4uCVTITuuoRdsen4LNgfbZ0sxC6RqFHhyDpRE3QuOReD/3sEy/+4BrVWwEDfZvh9Tk8M\nCXBhUCeix6KyNkHEhC747BU/WBgrEHMzHy8tP4L/7ruKcrVG7PKIGg2OrBM1Ibfyy/DJ7kvYfi4V\nAGBnZogPhvpgoK+zyJURkT6SyWQI7twcz7ZxwILtsdh3KQPL9lzB5jM3sWBQe/T3cuIAANHfxLBO\n1ASUVWqw+lAiVh5IQGll1YjXK51cMX9ge9iaGYpcHRHpu2ZWxlgzvjN+jknDR79eRHJOCab87wy6\nt7bDosFe8GxmKXaJRHqLYZ2oERMEAb/GpmPpzktIzSsFAHRys8Gil7zg39xa5OqIqDGRyWQYEuCC\n59s7YeWBa1h9+DqOJWRjYNhhjO7aAv/o1xZ25kZil0mkdxjWiRqpuNR8vL/jAk7eyAEAOFsZ418D\nPHkBKRE9VWZGCsx9wROjurTA0l0XsTP2FjZEJ+PnmDTMfr4tXg9yg9KAl8wRPS6GdaJGJrOwHJ//\ndhk/nEmBIADGSjmmPNcaU3u2homhgdjlEVET0dzWFCvHdsKJxGws2XEBF9ML8MEvF7AhOgn/HuSF\n3p6OYpdIpBcY1okaibJKDSKO3cBXf1xDUbkaAPCyvwr/GuAJlbWJyNURUVPVrZUdfpnZAz+cTsHn\nv11GYmYxJkScQs+2DlgwqD2XeiR6BIZ1Ij1XUqHGxuhkhB9KRGZhOQDA18UK7w32Qmd3W5GrIyIC\nDORVa7MP8nPGf/ddRcSxGzh4JROHrmZioI8z3urjgfbOvAiVqDYM60R6qqhcje+O38Caw9eRU1wB\nAFBZGWNOv7YY0dEVcjnnpRORtFgaK7FgkBfGBLohdNdF/BZ/G7/GpuPX2HT093LC233bwMfFSuwy\niSSFYZ1Iz+SXViLy2A18e/Q68koqAQAtbE0xvVdrDO/oCkMFL9wiImlraW+G8Nc642J6Ab764xp2\nxqXj9wu38fuF2+jj6YiZfTzQoYWN2GUSSQLDOpGeyC2uwLdHryPi6A0U3pmT3sreDDN6e2BIgAoK\nrq5ARHqmvbMlVoztiKu3C7Fi/zX8HJOGPy5l4I9LGXi2jT1m9mmDri05nY+aNoZ1IonLLirH6sPX\n8b/jN1BcUbWhURtHc8zs2waDfJ1hwOkuRKTn2jhZ4MtRHTDr+bZYuf8atp1LxeGrWTh8NQvdWtni\n7T5tENTajsvOUpPEsE4kQYIg4FxKHjacSMYvf6ahXK0FUDUK9XYfD7zg3Yxz0omo0Wlpb4bPgv3x\ndt82WHkgAVvOpOBEYg5OJEbDW2WJsYFuGBKggpkR4ws1HfzXTiQhReVq/HQ+FetPJONiekF1u7+r\nFd7q0wbPt3fkyBIRNXrNbU2xdLgvZvbxQPjBBGw6lYL4tALM3x6Lj3dexLAOLhjbrQU8m3EFGWr8\nGNaJJOBCWgE2RCfhx3Op1VNdjBRyvOSnwrhuLRDQ3JohnYiaHJW1CZYM8cHs59ti69mb2BCdjOtZ\nxfjfiST870QSOrnZYGxgCwz0dYaxkpu+UePEsE4kkrJKDX79Mx0bopNwNjmvur2VgxnGBrphREcX\nWJsailghEZE02JgZYtKzrRDSoyWOJ2RjQ3Qyfou/hTNJuTiTlIv3f7mA4E6uGBPohpb2ZmKXS1Sv\nGNaJGpBGK+D0jRzsjE3HTzFp1UsvKuQyvODTDGMDWyCoFS+iIiKqjUwmQ3cPe3T3sEdGQRl+OJ2C\nqJMpSM0rxerD17H68HV0b22HIQEq9PdqBhszDniQ/mNYJ3rK7gb0X2PTsSvuVvUuowDgYm2CMYEt\nENzZFY4WxiJWSUSkXxwtjfFWnzaY1ssDBy5nYEN0MvZfzsCxhGwcS8jG/O1x6N7aDoN8nfGCN4M7\n6S+GdaKnQKMVcOrOCPr9Ad3SWIF+Xs3wkr8znmvjwKUXiYj+BgO5DH3bO6Fveyek5JTg55g0/Ppn\nOi6kF1Qv/7jgx6rgPvBOcLdlcCc9wrBOVE/UGi1O3citDuhZRTUDen/vZhjk64xnPOy5yygR0VPQ\n3NYUM3p7YEZvD1zPKsbO2HTsjE1HfNpfwX3hj3EIalUV3Pt7O8He3EjssokeimGd6AkJgoCEzCIc\nuZqFI9eyEZ2YXb2zKABYmSjR38sJA/2c8UxrBnQioobU8s4OzzN6e+BGVjF+vSe4H7mWhSPXsjB/\neyy8nC3Ro409nvGwR1d3W5gYclUZkhaGdSId3C4ow9E7L/JHr2XhdkF5jdutTZXo194Jg/yc0Z0B\nnYhIEtzvC+4746qCe1xqAS6kV319cygRhgZydHSzRg+PqvDu62IFhQFfx0lcDOtED5FRWIbzyXk4\nlpCNo9eycDWjqMbthgo5urrb4hkPe/TwsIeXypJz0ImIJMzd3gzTe3lgei8PZBaW41hC1eDL0WvZ\nSM0rvbNjag4+//0KLIwVCGplhx5t7NHZzRZtncwZ3qnBMawT3VFQVonYm/mIuZmHP1Py8efNPKTl\nl9U4RiYDfF2sqsN5JzcbbsRBRKSnHCyMMCTABUMCXCAIApKyS6r/cnosIRv5pZX4/cJt/H7hNgDA\nWCmHt8oKfq5WCGhuDT9Xa7jbmXK5XXqqGNapSSqr1CA+rQB/3szDn3cCemJm8QPHyWSAh4M5ura0\nRQ8PewS1tuNGRUREjZBMJoO7vRnc7c0wrpsbNFoB8Wn5OHItC8euZSMmJQ+F5erqjZjusjRWwM/V\nGv7Nraq+u1rDydKIAZ7qDcM6NWr5JZW4llmIaxlFf31lFuFmbikE4cHjXW1M4H/Pi66PixXMjfhr\nQkTU1BjIZfBzrRo9n97LA1qtgOvZxYhJ+WuQJz6tAAVl6uoLVu+yMFbAw9EcHg7mVd/vfLnamHKq\nJOmMKYT0XlG5Gqm5pTidWoqb+RVIL9YiL/o4rmUU11g+8X725oZ3Xoit4H/nux2X8CIiolrI5TK0\ndjBHawdzDO/oCgCoUGtx5XZh9fTJmJt5uHK7EIVlapxLzsO55Lwa92GokKOVvRlaO5rDQluEZqYy\nOFtp4ZRfBkcLI8gZ5KkWOof1oqIiLFy4ED/88ANycnLg6emJf/3rXxg1atQjz83IyMC8efPwyy+/\noKSkBP7+/vjwww/Rt2/fJyqeGj+tVkBOSQVSc0uRmleKtLxS3Lzz8922/NLKWs78a0qLs5UxPByr\nXmDv/W5vbsg/UxIR0RMzVMjh42IFHxcrjA2saiur1OBGdnHNv+hmFCExqxgVai0u3SrEpVuFNe9o\nzz4oDWRwtjKBi7UJXGz++u5qbQKVtQmaWRnzGqkmSuewPnz4cJw6dQqhoaFo27YtNm7ciNGjR0Or\n1WLMmDF1nldeXo6+ffsiLy8PYWFhcHR0xIoVK/Diiy9i79696Nmz5996IqQfBEFAaaUG+aWVyC6q\nQFZRObKKKpBdVF79c1ZROTILy5FdXIGc4gpotLXMV7mPpbECdsYy2JvK0cLKEN19WlUFc0dzTmMh\nIqIGY6w0gGczS3g2s6zRrtEKuJlbUh3eT15KRmpBJbJLtcgu1aBSIyA5pwTJOSV13reFkQJ25oaw\nNzeq+rKo+tnO3AgO97RbmyphYazklJtGQqcUs3PnTuzZs6c6oANA7969kZSUhLlz52LkyJEwMKj9\nU9/atWsRFxeHY8eOISgoqPpcf39/zJs3D9HR0TWOF2qZUKzVanUpt17I5XIYGBhALpeL8vhSIQgC\nytUCSivUKK3UoKRCjeIKLcoqNCipVKO0QoOSCg2Ky9UoLFOjoKwSBWWVKCrT3Ple1VZYVgm15tHh\n+y5Lo6p/T/bmRnC2NkYzK2M4W5lAZXX3Z2M0szKBuZEC8fHxUKvVUCgU8PZWVd9HU+43qeLvlX5h\nf+kP9pV0yQA0tzFBcxsT9G7ngO62JdXvWZ7t2yOjsBzpeWVIzy9Den4pbhWUVf13QRnS80pRoa7q\nz/ySCuSXVCAho/DhDwjA3EgBc2MlLIwVsDRRwMJICUtjBSxMqtrMjRQwNVLAVGkAU0MDmCgNYGqo\ngImhHKaGChgbGsBUKYeBvGkvV1mfv1e1nV9b5r2XTHjUEfd48803sWnTJuTm5kKh+CvnR0VFYcyY\nMTh69Ci6d+9e67n9+vVDSkoKLl26VKN96dKlmD9/Pm7evAkXF5fqdrVajeLiB1fnICIiIiJqLMzM\nzGrk6vvp9FEpLi4O7du3f+AO/fz8qm9/2Ll3j6vt3Pj4eF1KISIiIiJq9HQK69nZ2bC1tX2g/W5b\ndnb2UzmXiIiIiKgp0nkS0sNWz3jUyhp/51wiIiIioqZGpwtM7ezsah0Bz8nJAYBaR86f9Fy5XA4z\nM7MabTKZjKGeiIiIiPSSIAgPXFAqf8QFvDqFdV9fX0RFRVVfvXxXbGwsAMDHx+eh59497l51nSuX\nyx9ZPBERERFRY6ZTGh42bBiKioqwdevWGu2RkZFQqVQIDAx86LmXLl2qsUSjWq3G+vXrERgYCJVK\nVee5RERERERNkU5LNwJA//79cfr0aXzyySfw8PBAVFQUVq9ejfXr12Ps2LEAgJCQEERGRiIhIQFu\nbm4AqjZF6tSpEwoKChAaGgpHR0esXLkSO3bs4KZIRERERES10HmeybZt2/Daa69h0aJFePHFFxEd\nHY2oqKjqoA4AGo0GGo2mxpwcIyMj7Nu3D71798bMmTMxePBgpKenY9euXZIL6n/88QcmTpwIT09P\nmJmZwcXFBUOGDMGZM2fELo3uc/78eQwaNAgtWrSAiYkJbG1tERQUhPXr14tdGj2GNWvWQCaTwdzc\nXOxS6D4HDhyovk7o/q8TJ06IXR7V4siRIxg4cCBsbGxgYmKCNm3a4IMPPhC7LLrHG2+8UefvFX+3\npOfcuXMYOnQoVCoVTE1N4enpiffffx8lJXXvMvs06Dyy3hQEBwcjOzsbwcHB8PLyQmZmJpYtW4bT\np0/jt99+Q58+fcQuke44cOAANm3ahB49esDFxQXFxcXYsGEDNm3ahA8++AALFy4Uu0SqQ2pqKry9\nvWFmZob8/HwUFRWJXRLd48CBA+jduzc+/vhj9O7du8ZtPj4+/IAlMRs3bsRrr72GV199FWPGjIG5\nuTkSEhKQlpaGRYsWiV0e3ZGQkIDMzMwH2gcPHgwjIyMkJSXVuRM8NawLFy6gU6dOaNeuHebPnw97\ne3scOnQIH374IQYNGoSffvqpwWphWK9FRkYGHB0da7QVFRXBw8MDPj4+2Lt3r0iV0ePq1q0b0tLS\nkJycLHYpVIfBgwdDJpPB1tYWW7ZsYViXmLthffPmzXjllVfELoceIjU1Fe3atcPrr7+OlStXil0O\n6ejgwYPo1asXFi5cyL+ESMjChQvx0Ucf4dq1a2jdunV1+5QpU/DNN98gJycHNjY2DVILl1upxf1B\nHQDMzc3h5eWFlJQUESoiXdnb2z90614S1/r163Hw4EEGC6J6sGbNGhQXF+Odd94RuxR6AmvXroVM\nJsPEiRPFLoXuoVQqAQBWVlY12q2trSGXy2FoaNhgtTCsP6b8/HycPXsW3t7eYpdCtdBqtVCr1cjM\nzMTKlSvx22+/8Y1LojIyMjB79myEhobC1dVV7HLoEWbMmAGFQgFLS0u88MILOHLkiNgl0X0OHToE\nW1tbXLp0CQEBAVAoFHB0dMTUqVNRUFAgdnn0EPn5+diyZQv69u2Lli1bil0O3WP8+PGwtrbGtGnT\nkJiYiMLCQvzyyy8IDw/HjBkzHtgL6GliWH9MM2bMQHFxMRYsWCB2KVSL6dOnQ6lUwtHREXPmzMHy\n5csxZcoUscuiWkyfPh3t2rXDtGnTxC6FHsLKygqzZs1CeHg49u/fj7CwMKSkpKBXr1747bffxC6P\n7pGamoqSkhIEBwdj5MiR2Lt3L+bOnYvvvvsOAwcOfGADFpKOqKgolJaWIiQkROxS6D7u7u44fvw4\n4uLi0Lp1a1haWmLw4MEYP348wsLCGrYYgR5p4cKFAgDhv//9r9ilUB2SkpKEU6dOCb/++qswdepU\nQS6XC5999pnYZdF9tmzZIhgaGgrx8fHVbePHjxfMzMxErIoeV25uruDq6ir4+fmJXQrdo02bNgIA\nYenSpTXav/zySwGAsGfPHpEqo0fp3LmzYGdnJ5SVlYldCt3n+vXrgoeHh/DMM88IW7ZsEQ4ePCh8\n+umngqWlpTBx4sQGrYVh/REWL14sABA++ugjsUshHUydOlVQKBRCRkaG2KXQHYWFhYKTk5Pwz3/+\nU8jNza3+Gj16tGBmZibk5uYKRUVFYpdJjzB16lQBgFBSUiJ2KXRHt27dBADC2bNna7RfvnxZACB8\n8sknIlVGDxMTEyMAEGbNmiV2KVSLkSNHCo6Ojg+8L3377bcCAOHAgQMNVgunwTzEkiVLsHjxYixe\nvBjz588XuxzSQdeuXaFWq5GYmCh2KXRHVlYWbt++jWXLlsHGxqb6KyoqCsXFxbCxsamxXwNJk3Bn\nSoVMJhO5ErrLz8+v1va7fSWX861eitauXQsAmDRpksiVUG3Onz8PLy+vB+amd+nSBQAQFxfXYLVw\nuYw6fPDBB1i8eDEWLlyI9957T+xySEf79++HXC5Hq1atxC6F7mjWrBn279//QHtoaCgOHjyIXbt2\nwd7eXoTK6HHl5ubil19+QUBAAIyNjcUuh+4YMWIEvvnmG+zatQsdOnSobt+5cyeAqqVsSVrKy8ux\nfv16dO3aFT4+PmKXQ7VQqVSIi4tDUVFRjX0ljh8/DgANukACw3otli1bVr1D66BBgx7YUYwvfNIx\nefJkWFpaomvXrnByckJWVhY2b96M77//HnPnzoWDg4PYJdIdxsbG6NWr1wPtERERMDAwqPU2Es+Y\nMWPQokULdO7cGfb29rh69SqWLVuG27dvIyIiQuzy6B79+/fH4MGD8f7770Or1aJbt244ffo0lixZ\ngpdeegk9evQQu0S6z48//oicnByOqkvY7NmzMXToUPTr1w9z5syBvb09Tpw4gaVLl8LLywsDBgxo\nsFq4KVItevXqhYMHD9Z5O/+XSce6deuwbt06XLx4EXl5eTA3N4e/vz8mTZqEcePGiV0ePYY33niD\nmyJJUGhoKL7//ntcv34dRUVFsLW1RY8ePfDuu+9W/xmYpKO0tBRLlizBxo0bkZ6eDpVKhbFjx+K9\n996DkZGR2OXRffr3749jx44hPT0dFhYWYpdDddi/fz9CQ0Px559/Ij8/H82bN8fgwYPx7rvvws7O\nrsHqYFgn+v/27ZAAAKEL1lAAAABLSURBVAAAQND/194wwAqLAABTrhMAAJgS6wAAMCXWAQBgSqwD\nAMCUWAcAgCmxDgAAU2IdAACmxDoAAEyJdQAAmBLrAAAwJdYBAGAqHksqEv7hwWMAAAAASUVORK5C\nYII=\n",
          "text/plain": "<matplotlib.figure.Figure at 0x26fb4995278>"
         },
         "metadata": {},
         "output_type": "display_data"
        }
       ]
      }
     },
     "5a6d31d1aa6544988edbcd3479975581": {
      "model_module": "@jupyter-widgets/controls",
      "model_module_version": "1.0.0",
      "model_name": "SliderStyleModel",
      "state": {
       "description_width": ""
      }
     },
     "86a55c14715c4eb798d0fa4d41abedde": {
      "model_module": "@jupyter-widgets/controls",
      "model_module_version": "1.0.0",
      "model_name": "SliderStyleModel",
      "state": {
       "description_width": ""
      }
     },
     "8ee89db8e5544f15aa6b0bf6e711a1c7": {
      "model_module": "@jupyter-widgets/controls",
      "model_module_version": "1.0.0",
      "model_name": "FloatSliderModel",
      "state": {
       "description": "mu",
       "layout": "IPY_MODEL_fd4892b626814b2c91e6d4745513949b",
       "max": 10,
       "step": 0.1,
       "style": "IPY_MODEL_86a55c14715c4eb798d0fa4d41abedde",
       "value": 5
      }
     },
     "b97d99edf2a6473c96060354d83952bb": {
      "model_module": "@jupyter-widgets/base",
      "model_module_version": "1.0.0",
      "model_name": "LayoutModel",
      "state": {}
     },
     "ca45591540ed4bdbb79da6bcbdecb7aa": {
      "model_module": "@jupyter-widgets/controls",
      "model_module_version": "1.0.0",
      "model_name": "VBoxModel",
      "state": {
       "_dom_classes": [
        "widget-interact"
       ],
       "children": [
        "IPY_MODEL_8ee89db8e5544f15aa6b0bf6e711a1c7",
        "IPY_MODEL_e17521d55ef04c6ea4cf54f3efc44a93",
        "IPY_MODEL_375ef8db345347d5ac2cf25a0d1725d9"
       ],
       "layout": "IPY_MODEL_b97d99edf2a6473c96060354d83952bb"
      }
     },
     "e17521d55ef04c6ea4cf54f3efc44a93": {
      "model_module": "@jupyter-widgets/controls",
      "model_module_version": "1.0.0",
      "model_name": "FloatSliderModel",
      "state": {
       "description": "variance",
       "layout": "IPY_MODEL_3046dfeaf42e4e42a4515c0a1d124af4",
       "max": 1,
       "min": 0.2,
       "step": 0.1,
       "style": "IPY_MODEL_5a6d31d1aa6544988edbcd3479975581",
       "value": 0.6000000000000001
      }
     },
     "f57e44c73c214d6782939f94442f4bef": {
      "model_module": "@jupyter-widgets/base",
      "model_module_version": "1.0.0",
      "model_name": "LayoutModel",
      "state": {}
     },
     "fd4892b626814b2c91e6d4745513949b": {
      "model_module": "@jupyter-widgets/base",
      "model_module_version": "1.0.0",
      "model_name": "LayoutModel",
      "state": {}
     }
    },
    "version_major": 2,
    "version_minor": 0
   }
  }
 },
 "nbformat": 4,
 "nbformat_minor": 1
}
